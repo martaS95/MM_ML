{
 "cells": [
  {
   "cell_type": "code",
   "execution_count": null,
   "id": "initial_id",
   "metadata": {
    "collapsed": true
   },
   "outputs": [],
   "source": [
    "import os\n",
    "import pandas as pd\n",
    "import numpy as np\n",
    "import sklearn\n",
    "import matplotlib.pyplot as plt\n",
    "from sklearn.feature_selection import VarianceThreshold, SelectKBest, f_classif\n",
    "from sklearn.preprocessing import StandardScaler\n",
    "from sklearn.model_selection import train_test_split, StratifiedKFold"
   ]
  },
  {
   "cell_type": "code",
   "execution_count": null,
   "outputs": [],
   "source": [
    "from data_analysis import run_tsne, plot_tsne"
   ],
   "metadata": {
    "collapsed": false
   },
   "id": "cb35e826e0c6b0f"
  },
  {
   "cell_type": "code",
   "execution_count": null,
   "outputs": [],
   "source": [
    "%load_ext autoreload\n",
    "%autoreload 2\n",
    "%reload_ext autoreload"
   ],
   "metadata": {
    "collapsed": false
   },
   "id": "97977c18ff23e9e"
  },
  {
   "cell_type": "code",
   "execution_count": null,
   "outputs": [],
   "source": [
    "data_source = 'C:/Users/BiSBII/Documents/MM_ML/data/'"
   ],
   "metadata": {
    "collapsed": false
   },
   "id": "897e26efd825e3ec"
  },
  {
   "cell_type": "code",
   "execution_count": null,
   "outputs": [],
   "source": [
    "dataset_file = os.path.join(data_source, 'GREAT_TPM_GSE98923.csv')\n",
    "metadata_file = os.path.join(data_source, 'GSE98923_metadata.xlsx')"
   ],
   "metadata": {
    "collapsed": false
   },
   "id": "247cb646de17f3e"
  },
  {
   "cell_type": "code",
   "execution_count": null,
   "outputs": [],
   "source": [
    "data = pd.read_csv(dataset_file, index_col=0)\n",
    "metadata = pd.read_excel(metadata_file, index_col=0)"
   ],
   "metadata": {
    "collapsed": false
   },
   "id": "13c6729a209a64e8"
  },
  {
   "cell_type": "code",
   "execution_count": null,
   "outputs": [],
   "source": [
    "data_log = pd.DataFrame(np.log2(data.values + 1.1), index=data.index, columns=data.columns)"
   ],
   "metadata": {
    "collapsed": false
   },
   "id": "320e50f68b11f11d"
  },
  {
   "cell_type": "code",
   "execution_count": null,
   "outputs": [],
   "source": [
    "data_log.to_csv(os.path.join(data_source, 'GREAT_LOG_TPM_GSE98923.csv'))"
   ],
   "metadata": {
    "collapsed": false
   },
   "id": "97080adb45708ab2"
  },
  {
   "cell_type": "code",
   "execution_count": null,
   "outputs": [],
   "source": [
    "data_model_file = 'C:/Users/BiSBII/Documents/plantdb/omics_data/RNAseq/UPDATE/GREAT_TPM_GSE98923_MODEL_GENES.csv'"
   ],
   "metadata": {
    "collapsed": false
   },
   "id": "eba161071dd8ef9e"
  },
  {
   "cell_type": "code",
   "execution_count": null,
   "outputs": [],
   "source": [
    "data_model = pd.read_csv(data_model_file, index_col=0)"
   ],
   "metadata": {
    "collapsed": false
   },
   "id": "200aafcdb2fbc8e7"
  },
  {
   "cell_type": "code",
   "execution_count": null,
   "outputs": [],
   "source": [
    "our_data_model = data_log.loc[data_model.index, :]\n",
    "our_data_model.to_csv(os.path.join(data_source, 'GREAT_LOG_TPM_GSE98923_MODEL_GENES.csv'))"
   ],
   "metadata": {
    "collapsed": false
   },
   "id": "f740e4207dd13927"
  },
  {
   "cell_type": "markdown",
   "source": [
    "# DATA ANALYSIS WILL ALL GENES"
   ],
   "metadata": {
    "collapsed": false
   },
   "id": "d1ef6c4f9373928a"
  },
  {
   "cell_type": "code",
   "execution_count": null,
   "outputs": [],
   "source": [
    "data_log.shape"
   ],
   "metadata": {
    "collapsed": false
   },
   "id": "bb15c34c606f0e30"
  },
  {
   "cell_type": "code",
   "execution_count": null,
   "outputs": [],
   "source": [
    "data_log = data_log.transpose()\n",
    "data_log.shape"
   ],
   "metadata": {
    "collapsed": false
   },
   "id": "2aee1769fb3548c3"
  },
  {
   "cell_type": "code",
   "execution_count": null,
   "outputs": [],
   "source": [
    "y_state = metadata['state'][data_log.index]\n",
    "y_state"
   ],
   "metadata": {
    "collapsed": false
   },
   "id": "4e6f77d042316dad"
  },
  {
   "cell_type": "code",
   "execution_count": null,
   "outputs": [],
   "source": [
    "values = y_state.value_counts()\n",
    "print(values)\n",
    "\n",
    "plt.pie(values , labels = values.index, autopct='%1.1f%%')\n",
    "plt.savefig('pie_tissues.png')\n",
    "plt.show()"
   ],
   "metadata": {
    "collapsed": false
   },
   "id": "e328457fab5e9de6"
  },
  {
   "cell_type": "code",
   "execution_count": null,
   "outputs": [],
   "source": [
    "values = metadata['year'][data_log.index].value_counts()\n",
    "print(values)\n",
    "\n",
    "plt.pie(values , labels = values.index, autopct='%1.1f%%')\n",
    "plt.savefig('pie_tissues.png')\n",
    "plt.show()"
   ],
   "metadata": {
    "collapsed": false
   },
   "id": "6af9f30794634c44"
  },
  {
   "cell_type": "code",
   "execution_count": null,
   "outputs": [],
   "source": [
    "y_cv = metadata['cultivar'][data_log.index]"
   ],
   "metadata": {
    "collapsed": false
   },
   "id": "2b4e7585bbbeead2"
  },
  {
   "cell_type": "code",
   "execution_count": null,
   "outputs": [],
   "source": [
    "values = y_cv.value_counts()\n",
    "print(values)\n",
    "\n",
    "plt.pie(values , labels = values.index, autopct='%1.1f%%')\n",
    "plt.savefig('pie_tissues.png')\n",
    "plt.show()"
   ],
   "metadata": {
    "collapsed": false
   },
   "id": "4caf87d3bbb8b5fe"
  },
  {
   "cell_type": "code",
   "execution_count": null,
   "outputs": [],
   "source": [
    "# remove some features\n",
    "vt = VarianceThreshold(0.1)\n",
    "data_filtered = vt.fit_transform(data_log)\n",
    "cols_inds = vt.get_support(indices=True)\n",
    "df_data_filtered = pd.DataFrame(data_filtered, index=data_log.index, columns=data_log.columns[cols_inds])\n",
    "df_data_filtered.shape"
   ],
   "metadata": {
    "collapsed": false
   },
   "id": "c92d3be9db098c5b"
  },
  {
   "cell_type": "code",
   "execution_count": null,
   "outputs": [],
   "source": [
    "df_tsne = run_tsne(n_components=2, data=df_data_filtered)\n",
    "df_tsne"
   ],
   "metadata": {
    "collapsed": false
   },
   "id": "e451fa1e90a78f2a"
  },
  {
   "cell_type": "code",
   "execution_count": null,
   "outputs": [],
   "source": [
    "df_tsne['factor'] = y_state"
   ],
   "metadata": {
    "collapsed": false
   },
   "id": "480ac43398a76db7"
  },
  {
   "cell_type": "code",
   "execution_count": null,
   "outputs": [],
   "source": [
    "plot_tsne(data=df_tsne, name_fig='tsne_all_genes_state', title='t-SNE projections of RNASeq data')"
   ],
   "metadata": {
    "collapsed": false
   },
   "id": "e9de07630a7567e2"
  },
  {
   "cell_type": "code",
   "execution_count": null,
   "outputs": [],
   "source": [
    "df_tsne['factor'] = y_cv"
   ],
   "metadata": {
    "collapsed": false
   },
   "id": "9ad0eb0b768c3777"
  },
  {
   "cell_type": "code",
   "execution_count": null,
   "outputs": [],
   "source": [
    "plot_tsne(data=df_tsne, name_fig='tsne_all_genes_cv', title='t-SNE projections of RNASeq data')"
   ],
   "metadata": {
    "collapsed": false
   },
   "id": "7c9208d7fb101832"
  },
  {
   "cell_type": "markdown",
   "source": [
    "# Analyse data genes in model"
   ],
   "metadata": {
    "collapsed": false
   },
   "id": "feca3bcad58f5801"
  },
  {
   "cell_type": "code",
   "execution_count": null,
   "outputs": [],
   "source": [
    "our_data_model = our_data_model.transpose()"
   ],
   "metadata": {
    "collapsed": false
   },
   "id": "cbc0d5f9069ade3f"
  },
  {
   "cell_type": "code",
   "execution_count": null,
   "outputs": [],
   "source": [
    "our_data_model.shape"
   ],
   "metadata": {
    "collapsed": false
   },
   "id": "965258c0912c05f9"
  },
  {
   "cell_type": "code",
   "execution_count": null,
   "outputs": [],
   "source": [
    "# remove some features\n",
    "vt = VarianceThreshold(0.1)\n",
    "data_filtered_model = vt.fit_transform(our_data_model)\n",
    "cols_inds = vt.get_support(indices=True)\n",
    "df_data_filtered_model = pd.DataFrame(data_filtered_model, index=our_data_model.index, columns=our_data_model.columns[cols_inds])\n",
    "df_data_filtered_model.shape"
   ],
   "metadata": {
    "collapsed": false
   },
   "id": "dea18a57d3c080c0"
  },
  {
   "cell_type": "code",
   "execution_count": null,
   "outputs": [],
   "source": [
    "df_tsne_model = run_tsne(n_components=2, data=df_data_filtered_model)"
   ],
   "metadata": {
    "collapsed": false
   },
   "id": "200e3a21963f27e0"
  },
  {
   "cell_type": "code",
   "execution_count": null,
   "outputs": [],
   "source": [
    "df_tsne_model['factor'] = y_state"
   ],
   "metadata": {
    "collapsed": false
   },
   "id": "18723a15452ecd9e"
  },
  {
   "cell_type": "code",
   "execution_count": null,
   "outputs": [],
   "source": [
    "plot_tsne(data=df_tsne_model, name_fig='tsne_model_genes_state', title='t-SNE projections of RNASeq data')"
   ],
   "metadata": {
    "collapsed": false
   },
   "id": "dd4f090fa011de80"
  },
  {
   "cell_type": "code",
   "execution_count": null,
   "outputs": [],
   "source": [
    "df_tsne_model['factor'] = y_cv"
   ],
   "metadata": {
    "collapsed": false
   },
   "id": "19171564c764b6d5"
  },
  {
   "cell_type": "code",
   "execution_count": null,
   "outputs": [],
   "source": [
    "plot_tsne(data=df_tsne_model, name_fig='tsne_model_genes_cv', title='t-SNE projections of RNASeq data')"
   ],
   "metadata": {
    "collapsed": false
   },
   "id": "9f4b416ca165e22f"
  },
  {
   "cell_type": "markdown",
   "source": [
    "# APPLY ML TO PREDICT LABEL STATE"
   ],
   "metadata": {
    "collapsed": false
   },
   "id": "d723bdc9eda527c5"
  },
  {
   "cell_type": "markdown",
   "source": [
    "Usar dataset sem replicates"
   ],
   "metadata": {
    "collapsed": false
   },
   "id": "127d63bf1afd12da"
  },
  {
   "cell_type": "code",
   "execution_count": null,
   "outputs": [],
   "source": [
    "data_all_genes = pd.read_csv(os.path.join(data_source, 'GREAT_LOG_TPM_GSE98923_NOREPS.csv'), index_col=0)\n",
    "data_all_genes = data_all_genes.transpose()\n",
    "data_all_genes.shape"
   ],
   "metadata": {
    "collapsed": false
   },
   "id": "ce375ee4280df72d"
  },
  {
   "cell_type": "markdown",
   "source": [
    "Metadata without replicates"
   ],
   "metadata": {
    "collapsed": false
   },
   "id": "1326e47ed9f01f8f"
  },
  {
   "cell_type": "code",
   "execution_count": null,
   "outputs": [],
   "source": [
    "metadata = pd.read_excel(metadata_file, index_col=0, sheet_name='NO_REPLICATES')\n",
    "metadata"
   ],
   "metadata": {
    "collapsed": false
   },
   "id": "8682092e14bcb573"
  },
  {
   "cell_type": "code",
   "execution_count": null,
   "outputs": [],
   "source": [
    "y_state = metadata['state']\n",
    "y_state"
   ],
   "metadata": {
    "collapsed": false
   },
   "id": "f23d47c69109c7f9"
  },
  {
   "cell_type": "markdown",
   "source": [
    "apply feature filter again"
   ],
   "metadata": {
    "collapsed": false
   },
   "id": "b6be292799aa249b"
  },
  {
   "cell_type": "code",
   "execution_count": null,
   "outputs": [],
   "source": [
    "# remove some features\n",
    "vt = VarianceThreshold(0.1)\n",
    "data_filtered = vt.fit_transform(data_all_genes)\n",
    "cols_inds = vt.get_support(indices=True)\n",
    "df_data_filtered = pd.DataFrame(data_filtered, index=data_all_genes.index, columns=data_all_genes.columns[cols_inds])\n",
    "df_data_filtered.shape"
   ],
   "metadata": {
    "collapsed": false
   },
   "id": "358b885b863fa065"
  },
  {
   "cell_type": "markdown",
   "source": [
    "Numero de features muito elevado, vamos selecionar 10000"
   ],
   "metadata": {
    "collapsed": false
   },
   "id": "48fb43ad3080b131"
  },
  {
   "cell_type": "code",
   "execution_count": null,
   "outputs": [],
   "source": [
    "from sklearn.feature_selection import SelectKBest, f_classif"
   ],
   "metadata": {
    "collapsed": false
   },
   "id": "42b878b8aa5b6af8"
  },
  {
   "cell_type": "code",
   "execution_count": null,
   "outputs": [],
   "source": [
    "kb = SelectKBest(f_classif, k=1000)\n",
    "\n",
    "filt_kb = kb.fit_transform(df_data_filtered, y_state)\n",
    "\n",
    "cols_inds = kb.get_support(indices=True)\n",
    "\n",
    "df_kb = pd.DataFrame(filt_kb, columns=df_data_filtered.columns[cols_inds], index=df_data_filtered.index)\n",
    "df_kb"
   ],
   "metadata": {
    "collapsed": false
   },
   "id": "9f5d6aead71ff00f"
  },
  {
   "cell_type": "markdown",
   "source": [
    "divide data train test"
   ],
   "metadata": {
    "collapsed": false
   },
   "id": "b60d835819297c9c"
  },
  {
   "cell_type": "code",
   "execution_count": null,
   "outputs": [],
   "source": [
    "X_train, X_test, y_train, y_test = train_test_split(df_kb, y_state, test_size=0.20, random_state=42)"
   ],
   "metadata": {
    "collapsed": false
   },
   "id": "b9e31e1bcebdd9ee"
  },
  {
   "cell_type": "markdown",
   "source": [
    "scale the data to facilitate the learning process"
   ],
   "metadata": {
    "collapsed": false
   },
   "id": "fc94096558ffa65f"
  },
  {
   "cell_type": "code",
   "execution_count": null,
   "outputs": [],
   "source": [
    "scaler = StandardScaler().fit(X_train)\n",
    "X_train = scaler.transform(X_train)\n",
    "X_test = scaler.transform(X_test)"
   ],
   "metadata": {
    "collapsed": false
   },
   "id": "f837287effa3d40d"
  },
  {
   "cell_type": "markdown",
   "source": [
    "Apply a simple model"
   ],
   "metadata": {
    "collapsed": false
   },
   "id": "1bbf69b8857ca719"
  },
  {
   "cell_type": "code",
   "execution_count": null,
   "outputs": [],
   "source": [
    "from sklearn.linear_model import LogisticRegression"
   ],
   "metadata": {
    "collapsed": false
   },
   "id": "7b5e98859bc83952"
  },
  {
   "cell_type": "code",
   "execution_count": null,
   "outputs": [],
   "source": [
    "clf = LogisticRegression(random_state=0).fit(X_train, y_train)"
   ],
   "metadata": {
    "collapsed": false
   },
   "id": "5c985822f91e19f3"
  },
  {
   "cell_type": "code",
   "execution_count": null,
   "outputs": [],
   "source": [
    "y_pred = clf.predict(X_test)"
   ],
   "metadata": {
    "collapsed": false
   },
   "id": "6336c99160c5d496"
  },
  {
   "cell_type": "code",
   "execution_count": null,
   "outputs": [],
   "source": [
    "clf.score(X_test, y_test)"
   ],
   "metadata": {
    "collapsed": false
   },
   "id": "ddfef262b10e185a"
  },
  {
   "cell_type": "code",
   "execution_count": null,
   "outputs": [],
   "source": [
    "from sklearn.metrics import precision_score, recall_score, accuracy_score, ConfusionMatrixDisplay"
   ],
   "metadata": {
    "collapsed": false
   },
   "id": "302c53d57213dd7f"
  },
  {
   "cell_type": "code",
   "execution_count": null,
   "outputs": [],
   "source": [
    "print('Precision: %0.2f' % precision_score(y_test, y_pred, average='weighted'))\n",
    "print('Recall: %0.2f' % recall_score(y_test, y_pred, average='weighted'))\n",
    "print('Accuracy: %0.2f' % accuracy_score(y_test, y_pred))"
   ],
   "metadata": {
    "collapsed": false
   },
   "id": "2b363bb6d2c5c57"
  },
  {
   "cell_type": "code",
   "execution_count": null,
   "outputs": [],
   "source": [
    "knn_cm = ConfusionMatrixDisplay.from_predictions(y_test, y_pred, display_labels=clf.classes_, cmap='Blues')\n",
    "knn_cm"
   ],
   "metadata": {
    "collapsed": false
   },
   "id": "fd0235a14dc43383"
  },
  {
   "cell_type": "code",
   "execution_count": null,
   "outputs": [],
   "source": [
    "from sklearn import svm"
   ],
   "metadata": {
    "collapsed": false
   },
   "id": "71168e81f688eece"
  },
  {
   "cell_type": "code",
   "execution_count": null,
   "outputs": [],
   "source": [
    "svm_model = svm.SVC(kernel = \"linear\")\n",
    "svm_model.fit(X_train, y_train)\n",
    "\n",
    "svm_y_pred = svm_model.predict(X_test)\n",
    "\n",
    "print('PECC (Accuracy): %0.2f' % svm_model.score(X_test, y_test))\n",
    "\n",
    "print('Precision: %0.2f' % precision_score(y_test, svm_y_pred, average='weighted'))\n",
    "print('Recall: %0.2f' % recall_score(y_test, svm_y_pred, average='weighted'))\n",
    "print('Accuracy: %0.2f' % accuracy_score(y_test, svm_y_pred))"
   ],
   "metadata": {
    "collapsed": false
   },
   "id": "26c3a707bfa8f8f9"
  },
  {
   "cell_type": "code",
   "execution_count": null,
   "outputs": [],
   "source": [
    "svm_cm = ConfusionMatrixDisplay.from_predictions(y_test, svm_y_pred, display_labels=svm_model.classes_, cmap='Blues')\n",
    "svm_cm"
   ],
   "metadata": {
    "collapsed": false
   },
   "id": "9e9e9e21f6313997"
  },
  {
   "cell_type": "markdown",
   "source": [
    "## Usar só os genes do modelo"
   ],
   "metadata": {
    "collapsed": false
   },
   "id": "ebcacc09cbfe0a52"
  },
  {
   "cell_type": "markdown",
   "source": [
    "load dataset model genes no reps"
   ],
   "metadata": {
    "collapsed": false
   },
   "id": "a7a2eac876474d9b"
  },
  {
   "cell_type": "code",
   "execution_count": null,
   "outputs": [],
   "source": [
    "data_model_genes = pd.read_csv(os.path.join(data_source, 'GREAT_LOG_TPM_GSE98923_MODEL_GENES_NOREPS.csv'), index_col=0)\n",
    "data_model_genes = data_model_genes.transpose()\n",
    "data_model_genes.shape"
   ],
   "metadata": {
    "collapsed": false
   },
   "id": "38ce57bfe47d661d"
  },
  {
   "cell_type": "markdown",
   "source": [
    "divide train test"
   ],
   "metadata": {
    "collapsed": false
   },
   "id": "5bed5b130af0ea22"
  },
  {
   "cell_type": "code",
   "execution_count": null,
   "outputs": [],
   "source": [
    "X_train, X_test, y_train, y_test = train_test_split(data_model_genes, y_state, test_size=0.20, random_state=42)"
   ],
   "metadata": {
    "collapsed": false
   },
   "id": "a82dd6f94d210bd4"
  },
  {
   "cell_type": "code",
   "execution_count": null,
   "outputs": [],
   "source": [
    "X_train.shape"
   ],
   "metadata": {
    "collapsed": false
   },
   "id": "f72fd050ec868de8"
  },
  {
   "cell_type": "markdown",
   "source": [
    "apply filter"
   ],
   "metadata": {
    "collapsed": false
   },
   "id": "4f882257076149fd"
  },
  {
   "cell_type": "code",
   "execution_count": null,
   "outputs": [],
   "source": [
    "# remove some features\n",
    "vt = VarianceThreshold(0.1)\n",
    "filter_train = vt.fit(X_train)\n",
    "\n",
    "train_filtered = filter_train.transform(X_train)\n",
    "test_filtered = filter_train.transform(X_test)\n",
    "\n",
    "cols_inds = vt.get_support(indices=True)\n",
    "\n",
    "X_train_filtered = pd.DataFrame(train_filtered, index=X_train.index, columns=X_train.columns[cols_inds])\n",
    "X_train_filtered.shape"
   ],
   "metadata": {
    "collapsed": false
   },
   "id": "8a792fb1ada6c2ea"
  },
  {
   "cell_type": "code",
   "execution_count": null,
   "outputs": [],
   "source": [
    "X_test_filtered = pd.DataFrame(test_filtered, index=X_test.index, columns=X_test.columns[cols_inds])\n",
    "X_test_filtered.shape"
   ],
   "metadata": {
    "collapsed": false
   },
   "id": "de7dc8febdf07581"
  },
  {
   "cell_type": "code",
   "execution_count": null,
   "outputs": [],
   "source": [
    "kb2 = SelectKBest(f_classif, k=500)\n",
    "\n",
    "kb2_fit = kb2.fit(X_train_filtered, y_train)\n",
    "\n",
    "train_filtered2 = kb2_fit.transform(X_train_filtered)\n",
    "test_filtered2 = kb2_fit.transform(X_test_filtered)\n",
    "\n",
    "cols_inds = kb2_fit.get_support(indices=True)\n",
    "\n",
    "X_train_filtered2 = pd.DataFrame(train_filtered2, columns=X_train_filtered.columns[cols_inds], index=X_train_filtered.index)\n",
    "X_train_filtered2.shape"
   ],
   "metadata": {
    "collapsed": false
   },
   "id": "474744d5c8c72927"
  },
  {
   "cell_type": "code",
   "execution_count": null,
   "outputs": [],
   "source": [
    "X_test_filtered2 = pd.DataFrame(test_filtered2, columns=X_test_filtered.columns[cols_inds], index=X_test_filtered.index)\n",
    "X_test_filtered2.shape"
   ],
   "metadata": {
    "collapsed": false
   },
   "id": "e84a912845b7594a"
  },
  {
   "cell_type": "code",
   "execution_count": null,
   "outputs": [],
   "source": [
    "scaler_model = StandardScaler().fit(X_train_filtered2)\n",
    "X_train_scaled = scaler_model.transform(X_train_filtered2)\n",
    "X_test_scaled = scaler_model.transform(X_test_filtered2)"
   ],
   "metadata": {
    "collapsed": false
   },
   "id": "9554fbff1dda5a8a"
  },
  {
   "cell_type": "code",
   "execution_count": null,
   "outputs": [],
   "source": [
    "X_train_scaled_df = pd.DataFrame(X_train_scaled, columns=X_train_filtered2.columns, index=X_train_filtered2.index)\n",
    "X_test_scaled_df = pd.DataFrame(X_test_scaled, columns=X_test_filtered2.columns, index=X_test_filtered2.index)"
   ],
   "metadata": {
    "collapsed": false
   },
   "id": "68bc9d91b60ec64c"
  },
  {
   "cell_type": "code",
   "execution_count": null,
   "outputs": [],
   "source": [
    "X_train_scaled_df.shape"
   ],
   "metadata": {
    "collapsed": false
   },
   "id": "b8f3e39f035e7852"
  },
  {
   "cell_type": "code",
   "execution_count": null,
   "outputs": [],
   "source": [
    "X_test_scaled_df.shape"
   ],
   "metadata": {
    "collapsed": false
   },
   "id": "e56dc4a749d507cc"
  },
  {
   "cell_type": "code",
   "execution_count": null,
   "outputs": [],
   "source": [
    "X_train_scaled_df.to_csv(os.path.join(data_source, 'XTRAIN_RNASEQ_MODEL_500_GENES_NOREPS.csv'))"
   ],
   "metadata": {
    "collapsed": false
   },
   "id": "711cd21017184190"
  },
  {
   "cell_type": "code",
   "execution_count": null,
   "outputs": [],
   "source": [
    "y_train.to_csv(os.path.join(data_source, 'yTRAIN_MODEL_500_GENES_NOREPS.csv'))"
   ],
   "metadata": {
    "collapsed": false
   },
   "id": "93045039e0b03c08"
  },
  {
   "cell_type": "code",
   "execution_count": null,
   "outputs": [],
   "source": [
    "X_test_scaled_df.to_csv(os.path.join(data_source, 'XTEST_RNASEQ_MODEL_500_GENES_NOREPS.csv'))"
   ],
   "metadata": {
    "collapsed": false
   },
   "id": "785c4d52086ec494"
  },
  {
   "cell_type": "code",
   "execution_count": null,
   "outputs": [],
   "source": [
    "y_test.to_csv(os.path.join(data_source, 'yTEST_MODEL_500_GENES_NOREPS.csv'))"
   ],
   "metadata": {
    "collapsed": false
   },
   "id": "af93c39f6b362b08"
  },
  {
   "cell_type": "markdown",
   "source": [
    "# USAR ALL GENES (manter a divisão do split train / test anterior)"
   ],
   "metadata": {
    "collapsed": false
   },
   "id": "1c2a93f6dd3c6122"
  },
  {
   "cell_type": "code",
   "execution_count": null,
   "outputs": [],
   "source": [
    "data_all_genes = pd.read_csv(os.path.join(data_source, 'GREAT_LOG_TPM_GSE98923_NOREPS.csv'), index_col=0)\n",
    "data_all_genes = data_all_genes.transpose()\n",
    "data_all_genes.shape"
   ],
   "metadata": {
    "collapsed": false
   },
   "id": "47abdf1176eab6d8"
  },
  {
   "cell_type": "markdown",
   "source": [
    "divide train and test"
   ],
   "metadata": {
    "collapsed": false
   },
   "id": "e6e6dc91473ee535"
  },
  {
   "cell_type": "code",
   "execution_count": null,
   "outputs": [],
   "source": [
    "X_train, X_test, y_train, y_test = train_test_split(data_all_genes, y_state, test_size=0.20, random_state=10)"
   ],
   "metadata": {
    "collapsed": false
   },
   "id": "bf6179f0a924820d"
  },
  {
   "cell_type": "code",
   "execution_count": null,
   "outputs": [],
   "source": [
    "Xtrain_RNAseq_model = pd.read_csv(os.path.join('C:/Users/BiSBII/Documents/MM_ML/data', 'DIABLO_INPUT', 'XTRAIN_RNASEQ_MODEL_500_GENES_NOREPS.csv'), index_col=0)"
   ],
   "metadata": {
    "collapsed": false
   },
   "id": "a836d072dbdeab92"
  },
  {
   "cell_type": "code",
   "execution_count": null,
   "outputs": [],
   "source": [
    "X_train = data_all_genes.loc[Xtrain_RNAseq_model.index, :]"
   ],
   "metadata": {
    "collapsed": false
   },
   "id": "447e3d1e416bed84"
  },
  {
   "cell_type": "code",
   "execution_count": null,
   "outputs": [],
   "source": [
    "X_train.shape"
   ],
   "metadata": {
    "collapsed": false
   },
   "id": "2ee288d7966820d0"
  },
  {
   "cell_type": "code",
   "execution_count": null,
   "outputs": [],
   "source": [
    "Xtest_RNAseq_model = pd.read_csv(os.path.join('C:/Users/BiSBII/Documents/MM_ML/data', 'DIABLO_INPUT', 'XTEST_RNASEQ_MODEL_500_GENES_NOREPS.csv'), index_col=0)"
   ],
   "metadata": {
    "collapsed": false
   },
   "id": "ac0fec7882973718"
  },
  {
   "cell_type": "code",
   "execution_count": null,
   "outputs": [],
   "source": [
    "X_test = data_all_genes.loc[Xtest_RNAseq_model.index, :]"
   ],
   "metadata": {
    "collapsed": false
   },
   "id": "76f7f9b0e14eba6b"
  },
  {
   "cell_type": "code",
   "execution_count": null,
   "outputs": [],
   "source": [
    "X_test.shape"
   ],
   "metadata": {
    "collapsed": false
   },
   "id": "3e0517d14b845ffd"
  },
  {
   "cell_type": "code",
   "execution_count": null,
   "outputs": [],
   "source": [
    "y_train_df = pd.read_csv(os.path.join('C:/Users/BiSBII/Documents/MM_ML/data', 'DIABLO_INPUT', 'yTRAIN_MODEL_500_GENES_NOREPS.csv'), index_col=0)\n",
    "y_train = y_train_df['state']"
   ],
   "metadata": {
    "collapsed": false
   },
   "id": "e1ee9b63b5ff3b1e"
  },
  {
   "cell_type": "code",
   "execution_count": null,
   "outputs": [],
   "source": [
    "y_test_df = pd.read_csv(os.path.join('C:/Users/BiSBII/Documents/MM_ML/data', 'DIABLO_INPUT', 'yTEST_MODEL_500_GENES_NOREPS.csv'), index_col=0)\n",
    "y_test = y_test_df['state']"
   ],
   "metadata": {
    "collapsed": false
   },
   "id": "ebc6da302aab4285"
  },
  {
   "cell_type": "code",
   "execution_count": null,
   "outputs": [],
   "source": [
    "# remove some features\n",
    "vt = VarianceThreshold(0.1)\n",
    "filter_train = vt.fit(X_train)\n",
    "\n",
    "train_filtered = filter_train.transform(X_train)\n",
    "test_filtered = filter_train.transform(X_test)\n",
    "\n",
    "cols_inds = vt.get_support(indices=True)\n",
    "\n",
    "X_train_filtered = pd.DataFrame(train_filtered, index=X_train.index, columns=X_train.columns[cols_inds])\n",
    "X_train_filtered.shape"
   ],
   "metadata": {
    "collapsed": false
   },
   "id": "40a760fdb13b6b22"
  },
  {
   "cell_type": "code",
   "execution_count": null,
   "outputs": [],
   "source": [
    "X_test_filtered = pd.DataFrame(test_filtered, index=X_test.index, columns=X_test.columns[cols_inds])\n",
    "X_test_filtered.shape"
   ],
   "metadata": {
    "collapsed": false
   },
   "id": "4c4a724b4d3967bf"
  },
  {
   "cell_type": "code",
   "execution_count": null,
   "outputs": [],
   "source": [
    "kb2 = SelectKBest(f_classif, k=500)\n",
    "\n",
    "kb2_fit = kb2.fit(X_train_filtered, y_train)\n",
    "\n",
    "train_filtered2 = kb2_fit.transform(X_train_filtered)\n",
    "test_filtered2 = kb2_fit.transform(X_test_filtered)\n",
    "\n",
    "cols_inds = kb2_fit.get_support(indices=True)\n",
    "\n",
    "X_train_filtered2 = pd.DataFrame(train_filtered2, columns=X_train_filtered.columns[cols_inds], index=X_train_filtered.index)\n",
    "X_train_filtered2.shape"
   ],
   "metadata": {
    "collapsed": false
   },
   "id": "b7987ea47ff34caa"
  },
  {
   "cell_type": "code",
   "execution_count": null,
   "outputs": [],
   "source": [
    "X_test_filtered2 = pd.DataFrame(test_filtered2, columns=X_test_filtered.columns[cols_inds], index=X_test_filtered.index)\n",
    "X_test_filtered2.shape"
   ],
   "metadata": {
    "collapsed": false
   },
   "id": "ca3f51c3bb13557e"
  },
  {
   "cell_type": "code",
   "execution_count": null,
   "outputs": [],
   "source": [
    "scaler_model = StandardScaler().fit(X_train_filtered2)\n",
    "X_train_scaled = scaler_model.transform(X_train_filtered2)\n",
    "X_test_scaled = scaler_model.transform(X_test_filtered2)"
   ],
   "metadata": {
    "collapsed": false
   },
   "id": "2c211c0bc16feaaa"
  },
  {
   "cell_type": "code",
   "execution_count": null,
   "outputs": [],
   "source": [
    "X_train_scaled_df = pd.DataFrame(X_train_scaled, columns=X_train_filtered2.columns, index=X_train_filtered2.index)\n",
    "X_test_scaled_df = pd.DataFrame(X_test_scaled, columns=X_test_filtered2.columns, index=X_test_filtered2.index)"
   ],
   "metadata": {
    "collapsed": false
   },
   "id": "d38cb6da205709e8"
  },
  {
   "cell_type": "code",
   "execution_count": null,
   "outputs": [],
   "source": [
    "X_train_scaled_df.shape"
   ],
   "metadata": {
    "collapsed": false
   },
   "id": "991abc30a138008a"
  },
  {
   "cell_type": "code",
   "execution_count": null,
   "outputs": [],
   "source": [
    "X_test_scaled_df.shape"
   ],
   "metadata": {
    "collapsed": false
   },
   "id": "9d02e27d37ff4d74"
  },
  {
   "cell_type": "code",
   "execution_count": null,
   "outputs": [],
   "source": [
    "X_train_scaled_df.to_csv(os.path.join(data_source, 'DIABLO_INPUT', 'XTRAIN_RNASEQ_ALL_500_GENES_NOREPS_NEWSPLIT.csv'))"
   ],
   "metadata": {
    "collapsed": false
   },
   "id": "a5e4dbf796adee0"
  },
  {
   "cell_type": "code",
   "execution_count": null,
   "outputs": [],
   "source": [
    "X_test_scaled_df.to_csv(os.path.join(data_source, 'DIABLO_INPUT', 'XTEST_RNASEQ_ALL_500_GENES_NOREPS_NEWSPLIT.csv'))"
   ],
   "metadata": {
    "collapsed": false
   },
   "id": "c3a7895a9d1b5e0f"
  },
  {
   "cell_type": "code",
   "execution_count": null,
   "outputs": [],
   "source": [
    "y_train.to_csv(os.path.join(data_source, 'DIABLO_INPUT', 'yTRAIN_ALL_500_GENES_NOREPS_NEWSPLIT.csv'))"
   ],
   "metadata": {
    "collapsed": false
   },
   "id": "e7b36270396933fe"
  },
  {
   "cell_type": "code",
   "execution_count": null,
   "outputs": [],
   "source": [
    "y_test.to_csv(os.path.join(data_source, 'DIABLO_INPUT', 'yTEST_ALL_500_GENES_NOREPS_NEWSPLIT.csv'))"
   ],
   "metadata": {
    "collapsed": false
   },
   "id": "d2fce47cb022e1d5"
  },
  {
   "cell_type": "markdown",
   "source": [
    "# fazer 5 splits"
   ],
   "metadata": {
    "collapsed": false
   },
   "id": "1af7a5a847fdd7a8"
  },
  {
   "cell_type": "code",
   "execution_count": null,
   "outputs": [],
   "source": [
    "skf = StratifiedKFold(n_splits=5)\n",
    "for i, (train_index, test_index) in enumerate(skf.split(data_all_genes, y_state)):\n",
    "    \n",
    "    print(i)\n",
    "    \n",
    "    X_train = data_all_genes.iloc[train_index, :]\n",
    "    X_test = data_all_genes.iloc[test_index, :]\n",
    "\n",
    "    y_train = y_state.iloc[train_index]\n",
    "    y_test = y_state.iloc[test_index]\n",
    "    \n",
    "    # remove some features\n",
    "    vt = VarianceThreshold(0.1)\n",
    "    filter_train = vt.fit(X_train)\n",
    "    \n",
    "    train_filtered = filter_train.transform(X_train)\n",
    "    test_filtered = filter_train.transform(X_test)\n",
    "    \n",
    "    cols_inds = vt.get_support(indices=True)\n",
    "    \n",
    "    X_train_filtered = pd.DataFrame(train_filtered, index=X_train.index, columns=X_train.columns[cols_inds])\n",
    "    X_test_filtered = pd.DataFrame(test_filtered, index=X_test.index, columns=X_test.columns[cols_inds])\n",
    "    \n",
    "    kb2 = SelectKBest(f_classif, k=500)\n",
    "\n",
    "    kb2_fit = kb2.fit(X_train_filtered, y_train)\n",
    "\n",
    "    train_filtered2 = kb2_fit.transform(X_train_filtered)\n",
    "    test_filtered2 = kb2_fit.transform(X_test_filtered)\n",
    "\n",
    "    cols_inds = kb2_fit.get_support(indices=True)\n",
    "\n",
    "    X_train_filtered2 = pd.DataFrame(train_filtered2, columns=X_train_filtered.columns[cols_inds], index=X_train_filtered.index)\n",
    "    X_test_filtered2 = pd.DataFrame(test_filtered2, columns=X_test_filtered.columns[cols_inds], index=X_test_filtered.index)\n",
    "    \n",
    "    scaler_model = StandardScaler().fit(X_train_filtered2)\n",
    "    X_train_scaled = scaler_model.transform(X_train_filtered2)\n",
    "    X_test_scaled = scaler_model.transform(X_test_filtered2)\n",
    "    \n",
    "    X_train_scaled_df = pd.DataFrame(X_train_scaled, columns=X_train_filtered2.columns, index=X_train_filtered2.index)\n",
    "    X_test_scaled_df = pd.DataFrame(X_test_scaled, columns=X_test_filtered2.columns, index=X_test_filtered2.index)\n",
    "    \n",
    "    X_train_scaled_df.to_csv(os.path.join(data_source, 'DIABLO_INPUT', 'XTRAIN_RNASEQ_ALL_GENES_NOREPS_SPLIT_' + str(i) + '.csv'))\n",
    "    \n",
    "    X_test_scaled_df.to_csv(os.path.join(data_source, 'DIABLO_INPUT', 'XTEST_RNASEQ_ALL_GENES_NOREPS_SPLIT_' + str(i) + '.csv'))\n",
    "    \n",
    "    y_train.to_csv(os.path.join(data_source, 'DIABLO_INPUT', 'yTRAIN_ALL_GENES_NOREPS_SPLIT_' + str(i) + '.csv'))\n",
    "    \n",
    "    y_test.to_csv(os.path.join(data_source, 'DIABLO_INPUT', 'yTEST_ALL_500_GENES_NOREPS_SPLIT_' + str(i) + '.csv'))\n",
    "    "
   ],
   "metadata": {
    "collapsed": false
   },
   "id": "6a94300dccc058f9"
  },
  {
   "cell_type": "code",
   "execution_count": null,
   "outputs": [],
   "source": [
    "clf = LogisticRegression(random_state=0).fit(X_train_scaled_df, y_train)\n",
    "y_pred = clf.predict(X_test_scaled_df)"
   ],
   "metadata": {
    "collapsed": false
   },
   "id": "c8801d8983ffa405"
  },
  {
   "cell_type": "code",
   "execution_count": null,
   "outputs": [],
   "source": [
    "print('Precision: %0.2f' % precision_score(y_test, y_pred, average='weighted'))\n",
    "print('Recall: %0.2f' % recall_score(y_test, y_pred, average='weighted'))\n",
    "print('Accuracy: %0.2f' % accuracy_score(y_test, y_pred))"
   ],
   "metadata": {
    "collapsed": false
   },
   "id": "1b2c8d53f60a3c51"
  },
  {
   "cell_type": "code",
   "execution_count": null,
   "outputs": [],
   "source": [
    "cm_lr = ConfusionMatrixDisplay.from_predictions(y_test, y_pred, display_labels=clf.classes_, cmap='Blues')"
   ],
   "metadata": {
    "collapsed": false
   },
   "id": "da7939e8c95340f0"
  },
  {
   "cell_type": "code",
   "execution_count": null,
   "outputs": [],
   "source": [
    "coefs = clf.coef_\n",
    "feature_importance = pd.DataFrame(coefs.transpose(), index=X_train_scaled_df.columns, columns=['coef'])\n",
    "feature_importance['mean_coef'] = abs(feature_importance).mean(axis=1)\n",
    "feature_importance.sort_values(by=['mean_coef'], ascending=False)"
   ],
   "metadata": {
    "collapsed": false
   },
   "id": "4e15f9626efd800c"
  },
  {
   "cell_type": "code",
   "execution_count": null,
   "outputs": [],
   "source": [
    "svm_model = svm.SVC(kernel = \"linear\")\n",
    "svm_model.fit(X_train_scaled_df, y_train)\n",
    "\n",
    "svm_y_pred = svm_model.predict(X_test_scaled_df)\n",
    "\n",
    "print('PECC (Accuracy): %0.2f' % svm_model.score(X_test_scaled_df, y_test))\n",
    "\n",
    "print('Precision: %0.2f' % precision_score(y_test, svm_y_pred, average='weighted'))\n",
    "print('Recall: %0.2f' % recall_score(y_test, svm_y_pred, average='weighted'))\n",
    "print('Accuracy: %0.2f' % accuracy_score(y_test, svm_y_pred))"
   ],
   "metadata": {
    "collapsed": false
   },
   "id": "a37c97fda21c34e0"
  },
  {
   "cell_type": "code",
   "execution_count": null,
   "outputs": [],
   "source": [
    "svm_cm = ConfusionMatrixDisplay.from_predictions(y_test, svm_y_pred, display_labels=svm_model.classes_, cmap='Blues')\n",
    "svm_cm"
   ],
   "metadata": {
    "collapsed": false
   },
   "id": "787c91e03a2e45d4"
  },
  {
   "cell_type": "code",
   "execution_count": null,
   "outputs": [],
   "source": [
    "coefs = svm_model.coef_\n",
    "feature_importance = pd.DataFrame(coefs.transpose(), index=X_train_scaled_df.columns, columns=['coef'])\n",
    "feature_importance['mean_coef'] = abs(feature_importance).mean(axis=1)\n",
    "feature_importance.sort_values(by=['mean_coef'], ascending=False)"
   ],
   "metadata": {
    "collapsed": false
   },
   "id": "396d7d0b27b999e7"
  },
  {
   "cell_type": "code",
   "execution_count": null,
   "outputs": [],
   "source": [
    "from sklearn.model_selection import cross_val_score, LeaveOneOut"
   ],
   "metadata": {
    "collapsed": false
   },
   "id": "8239d589133f232"
  },
  {
   "cell_type": "code",
   "execution_count": null,
   "outputs": [],
   "source": [
    "scores_svm_cv = cross_val_score(estimator=svm_model, X=data_filtered_model, y=y_state, cv = 5)\n",
    "print('Accuracy values:', scores_svm_cv)\n",
    "print('Mean accuracy: %0.2f' % scores_svm_cv.mean())"
   ],
   "metadata": {
    "collapsed": false
   },
   "id": "c81131ae4b625b2f"
  },
  {
   "cell_type": "code",
   "execution_count": null,
   "outputs": [],
   "source": [
    "loo_cv = LeaveOneOut()\n",
    "scores_loo = cross_val_score(estimator=svm_model, X=data_filtered_model, y=y_state, cv=loo_cv)\n",
    "\n",
    "print('Mean accuracy: %0.2f' % scores_loo.mean())"
   ],
   "metadata": {
    "collapsed": false
   },
   "id": "c6950278f961e43b"
  },
  {
   "cell_type": "code",
   "execution_count": null,
   "outputs": [],
   "source": [
    "coefs = svm_model.coef_\n",
    "feature_importance = pd.DataFrame(coefs.transpose(), index=data_filtered_model.columns, columns=['coef'])\n",
    "feature_importance['mean_coef'] = abs(feature_importance).mean(axis=1)\n",
    "feature_importance.sort_values(by=['mean_coef'], ascending=False)"
   ],
   "metadata": {
    "collapsed": false
   },
   "id": "1b130ba123e473f0"
  },
  {
   "cell_type": "code",
   "execution_count": null,
   "outputs": [],
   "source": [
    "from sklearn.ensemble import RandomForestClassifier"
   ],
   "metadata": {
    "collapsed": false
   },
   "id": "9a5aff740c6e0d03"
  },
  {
   "cell_type": "code",
   "execution_count": null,
   "outputs": [],
   "source": [
    "rf_model = RandomForestClassifier(n_estimators=100)\n",
    "\n",
    "# scores_rf = cross_val_score(rf_model, df_data_scaled_model, y_state, cv=5)\n",
    "\n",
    "# print('Accuracy values:', scores_rf)\n",
    "# print('Mean accuracy: %0.2f' % scores_rf.mean())\n",
    "\n",
    "rf_model.fit(X_train_scaled_df, y_train)\n",
    "\n",
    "rf_y_pred = rf_model.predict(X_test_scaled_df)\n",
    "\n",
    "print('PECC (Accuracy): %0.2f' % rf_model.score(X_test_scaled_df, y_test))\n",
    "\n",
    "print('Precision: %0.2f' % precision_score(y_test, rf_y_pred, average='weighted'))\n",
    "print('Recall: %0.2f' % recall_score(y_test, rf_y_pred, average='weighted'))\n",
    "print('Accuracy: %0.2f' % accuracy_score(y_test, rf_y_pred))"
   ],
   "metadata": {
    "collapsed": false
   },
   "id": "887238d2a2182a55"
  },
  {
   "cell_type": "code",
   "execution_count": null,
   "outputs": [],
   "source": [
    "importances = rf_model.feature_importances_\n",
    "importances_df = pd.DataFrame(importances, columns=['importance'], index=X_train_scaled_df.columns)\n",
    "importances_df.sort_values(by=['importance'], ascending=False)"
   ],
   "metadata": {
    "collapsed": false
   },
   "id": "1fa49ea136497fe6"
  }
 ],
 "metadata": {
  "kernelspec": {
   "display_name": "Python 3",
   "language": "python",
   "name": "python3"
  },
  "language_info": {
   "codemirror_mode": {
    "name": "ipython",
    "version": 2
   },
   "file_extension": ".py",
   "mimetype": "text/x-python",
   "name": "python",
   "nbconvert_exporter": "python",
   "pygments_lexer": "ipython2",
   "version": "2.7.6"
  }
 },
 "nbformat": 4,
 "nbformat_minor": 5
}
