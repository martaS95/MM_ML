{
 "cells": [
  {
   "cell_type": "code",
   "execution_count": 1,
   "outputs": [],
   "source": [
    "import os\n",
    "import pandas as pd\n",
    "import numpy as np\n",
    "import matplotlib.pyplot as plt\n",
    "from sklearn.feature_selection import VarianceThreshold\n",
    "from sklearn.preprocessing import StandardScaler\n",
    "from sklearn.model_selection import train_test_split\n",
    "from data_analysis import run_tsne, plot_tsne"
   ],
   "metadata": {
    "collapsed": false,
    "ExecuteTime": {
     "end_time": "2024-03-10T19:12:38.901729700Z",
     "start_time": "2024-03-10T19:12:37.283580300Z"
    }
   },
   "id": "ff8d58654b0665d9"
  },
  {
   "cell_type": "code",
   "execution_count": 2,
   "outputs": [],
   "source": [
    "%load_ext autoreload\n",
    "%autoreload 2\n",
    "%reload_ext autoreload"
   ],
   "metadata": {
    "collapsed": false,
    "ExecuteTime": {
     "end_time": "2023-12-28T14:10:14.303354Z",
     "start_time": "2023-12-28T14:10:14.108858600Z"
    }
   },
   "id": "d24f14fd1bcb7559"
  },
  {
   "cell_type": "code",
   "execution_count": 2,
   "id": "initial_id",
   "metadata": {
    "collapsed": true,
    "ExecuteTime": {
     "end_time": "2024-03-10T19:12:45.292392900Z",
     "start_time": "2024-03-10T19:12:45.276355800Z"
    }
   },
   "outputs": [],
   "source": [
    "DATAFOLDER = 'C:/Users/BiSBII/Documents/plantdb/omics_data/RNAseq'"
   ]
  },
  {
   "cell_type": "code",
   "execution_count": 3,
   "outputs": [],
   "source": [
    "metabolomics_file = 'metabolomics.xlsx'\n",
    "metadata_file = 'metabolomics_metadata.csv'"
   ],
   "metadata": {
    "collapsed": false,
    "ExecuteTime": {
     "end_time": "2024-03-10T19:12:47.251962100Z",
     "start_time": "2024-03-10T19:12:47.234613800Z"
    }
   },
   "id": "70e8b28568e30ac7"
  },
  {
   "cell_type": "code",
   "execution_count": 4,
   "outputs": [
    {
     "data": {
      "text/plain": "(212, 219)"
     },
     "execution_count": 4,
     "metadata": {},
     "output_type": "execute_result"
    }
   ],
   "source": [
    "data_mets = pd.read_excel(os.path.join(DATAFOLDER, metabolomics_file), index_col=0, header=1)\n",
    "metadata_mets = pd.read_csv(os.path.join(DATAFOLDER, metadata_file), index_col=0)\n",
    "data_mets = data_mets.loc[:, data_mets.columns != 'Method']\n",
    "data_mets.shape"
   ],
   "metadata": {
    "collapsed": false,
    "ExecuteTime": {
     "end_time": "2024-03-10T19:12:49.933337400Z",
     "start_time": "2024-03-10T19:12:49.154497200Z"
    }
   },
   "id": "e216bdeda9e724b1"
  },
  {
   "cell_type": "code",
   "execution_count": 5,
   "outputs": [
    {
     "data": {
      "text/plain": "(219, 212)"
     },
     "execution_count": 5,
     "metadata": {},
     "output_type": "execute_result"
    }
   ],
   "source": [
    "data_mets = data_mets.transpose()\n",
    "data_mets.shape"
   ],
   "metadata": {
    "collapsed": false,
    "ExecuteTime": {
     "end_time": "2024-03-10T19:12:52.000402600Z",
     "start_time": "2024-03-10T19:12:51.982392600Z"
    }
   },
   "id": "a79edb946a423c57"
  },
  {
   "cell_type": "code",
   "execution_count": null,
   "outputs": [],
   "source": [
    "data_mets"
   ],
   "metadata": {
    "collapsed": false
   },
   "id": "2157e48249dc23d6"
  },
  {
   "cell_type": "code",
   "execution_count": 6,
   "outputs": [],
   "source": [
    "y_state = metadata_mets['factor']\n",
    "y_cv = metadata_mets['cultivar']\n",
    "y_year = metadata_mets['vintage']"
   ],
   "metadata": {
    "collapsed": false,
    "ExecuteTime": {
     "end_time": "2024-03-10T19:12:53.907507500Z",
     "start_time": "2024-03-10T19:12:53.877787200Z"
    }
   },
   "id": "542470a412db9dc6"
  },
  {
   "cell_type": "code",
   "execution_count": null,
   "outputs": [],
   "source": [
    "values = y_state.value_counts()\n",
    "print(values)\n",
    "\n",
    "plt.pie(values , labels = values.index, autopct='%1.1f%%')\n",
    "# plt.savefig('pie_state.png')\n",
    "plt.show()"
   ],
   "metadata": {
    "collapsed": false
   },
   "id": "5f13139d30b8a176"
  },
  {
   "cell_type": "code",
   "execution_count": null,
   "outputs": [],
   "source": [
    "values = y_cv.value_counts()\n",
    "print(values)\n",
    "\n",
    "plt.pie(values , labels = values.index, autopct='%1.1f%%')\n",
    "# plt.savefig('pie_cv.png')\n",
    "plt.show()"
   ],
   "metadata": {
    "collapsed": false
   },
   "id": "864cc88898e4ac71"
  },
  {
   "cell_type": "code",
   "execution_count": null,
   "outputs": [],
   "source": [
    "values = y_year.value_counts()\n",
    "print(values)\n",
    "\n",
    "plt.pie(values , labels = values.index, autopct='%1.1f%%')\n",
    "# plt.savefig('pie_year.png')\n",
    "plt.show()"
   ],
   "metadata": {
    "collapsed": false
   },
   "id": "719a8ac50a7a2b38"
  },
  {
   "cell_type": "code",
   "execution_count": null,
   "outputs": [],
   "source": [
    "df_tsne = run_tsne(n_components=2, data=data_mets)"
   ],
   "metadata": {
    "collapsed": false
   },
   "id": "15ad98a26ca023b8"
  },
  {
   "cell_type": "code",
   "execution_count": null,
   "outputs": [],
   "source": [
    "df_tsne"
   ],
   "metadata": {
    "collapsed": false
   },
   "id": "a3aab89da28152ae"
  },
  {
   "cell_type": "code",
   "execution_count": null,
   "outputs": [],
   "source": [
    "df_tsne['factor'] = y_state"
   ],
   "metadata": {
    "collapsed": false
   },
   "id": "a51d72bd53c83566"
  },
  {
   "cell_type": "code",
   "execution_count": null,
   "outputs": [],
   "source": [
    "plot_tsne(data=df_tsne, name_fig='tsne_metabolomics_state', title='t-SNE for metabolomics data')"
   ],
   "metadata": {
    "collapsed": false
   },
   "id": "e6cc157291bb65f1"
  },
  {
   "cell_type": "code",
   "execution_count": null,
   "outputs": [],
   "source": [
    "df_tsne['factor'] = y_cv"
   ],
   "metadata": {
    "collapsed": false
   },
   "id": "36ccc66ee645393"
  },
  {
   "cell_type": "code",
   "execution_count": null,
   "outputs": [],
   "source": [
    "plot_tsne(data=df_tsne, name_fig='tsne_metabolomics_cv', title='t-SNE for metabolomics data')"
   ],
   "metadata": {
    "collapsed": false
   },
   "id": "982f8d3e217c9026"
  },
  {
   "cell_type": "code",
   "execution_count": null,
   "outputs": [],
   "source": [
    "from sklearn.linear_model import LogisticRegression\n",
    "from sklearn.metrics import precision_score, recall_score, accuracy_score, ConfusionMatrixDisplay"
   ],
   "metadata": {
    "collapsed": false
   },
   "id": "e4e7fc0e01f86ae1"
  },
  {
   "cell_type": "code",
   "execution_count": null,
   "outputs": [],
   "source": [
    "scaler = StandardScaler()\n",
    "data_scaled = scaler.fit_transform(data_mets)\n",
    "df_data_scaled = pd.DataFrame(data_scaled, columns=data_mets.columns,\n",
    "                              index=data_mets.index)\n",
    "df_data_scaled.shape"
   ],
   "metadata": {
    "collapsed": false
   },
   "id": "ee5adca9f51545ab"
  },
  {
   "cell_type": "code",
   "execution_count": null,
   "outputs": [],
   "source": [
    "X_train, X_test, y_train, y_test = train_test_split(df_data_scaled, y_state, test_size=0.20, random_state=42)"
   ],
   "metadata": {
    "collapsed": false
   },
   "id": "4e16e1a201991170"
  },
  {
   "cell_type": "code",
   "execution_count": null,
   "outputs": [],
   "source": [
    "clf = LogisticRegression(random_state=0).fit(X_train, y_train)\n",
    "\n",
    "y_pred = clf.predict(X_test)\n",
    "\n",
    "print('Precision: %0.2f' % precision_score(y_test, y_pred, average='weighted'))\n",
    "print('Recall: %0.2f' % recall_score(y_test, y_pred, average='weighted'))\n",
    "print('Accuracy: %0.2f' % accuracy_score(y_test, y_pred))"
   ],
   "metadata": {
    "collapsed": false
   },
   "id": "49377da4e2182b21"
  },
  {
   "cell_type": "code",
   "execution_count": null,
   "outputs": [],
   "source": [
    "from sklearn import svm"
   ],
   "metadata": {
    "collapsed": false
   },
   "id": "3d537cb1a86de172"
  },
  {
   "cell_type": "code",
   "execution_count": null,
   "outputs": [],
   "source": [
    "svm_model = svm.SVC(kernel='linear')\n",
    "svm_model.fit(X_train, y_train)\n",
    "\n",
    "svm_y_pred = svm_model.predict(X_test)\n",
    "\n",
    "print('PECC (Accuracy): %0.2f' % svm_model.score(X_test, y_test))\n",
    "\n",
    "print('Precision: %0.2f' % precision_score(y_test, svm_y_pred, average='weighted'))\n",
    "print('Recall: %0.2f' % recall_score(y_test, svm_y_pred, average='weighted'))\n",
    "print('Accuracy: %0.2f' % accuracy_score(y_test, svm_y_pred))"
   ],
   "metadata": {
    "collapsed": false
   },
   "id": "c00912cb406e9c04"
  },
  {
   "cell_type": "code",
   "execution_count": null,
   "outputs": [],
   "source": [
    "coefs = svm_model.coef_\n",
    "feature_importance = pd.DataFrame(coefs.transpose(), index=df_data_scaled.columns, columns=['coef'])\n",
    "feature_importance['mean_coef'] = abs(feature_importance).mean(axis=1)\n",
    "feature_importance.sort_values(by=['mean_coef'], ascending=False)"
   ],
   "metadata": {
    "collapsed": false
   },
   "id": "33dcc4ec9e33746"
  },
  {
   "cell_type": "markdown",
   "source": [
    "# NO REPLICATES"
   ],
   "metadata": {
    "collapsed": false
   },
   "id": "d9db75bcaf444dea"
  },
  {
   "cell_type": "code",
   "execution_count": 7,
   "outputs": [],
   "source": [
    "data_source = 'C:/Users/BiSBII/Documents/MM_ML/data/'"
   ],
   "metadata": {
    "collapsed": false,
    "ExecuteTime": {
     "end_time": "2024-03-10T19:12:58.585776700Z",
     "start_time": "2024-03-10T19:12:58.544930700Z"
    }
   },
   "id": "9bca03730f2902bd"
  },
  {
   "cell_type": "code",
   "execution_count": 8,
   "outputs": [],
   "source": [
    "metadata_mets_conv = pd.read_excel(os.path.join(data_source, 'metabolomics_metadata.xlsx'), sheet_name='CONVERSION', index_col=0)"
   ],
   "metadata": {
    "collapsed": false,
    "ExecuteTime": {
     "end_time": "2024-03-10T19:13:00.259628800Z",
     "start_time": "2024-03-10T19:13:00.203057400Z"
    }
   },
   "id": "15a8e6176b1a38ac"
  },
  {
   "cell_type": "code",
   "execution_count": 9,
   "outputs": [
    {
     "data": {
      "text/plain": "Metabolite Name    xylose  xylonic acid  vanillic acid    valine      urea  \\\ngroups                                                                       \nCS_time0_2012    3.731010      0.286863       0.117069  1.730116  1.216265   \nCS_time0_2013    3.248436      0.571939       0.219839  0.758713  1.244861   \nCS_time0_2014    2.293119      0.529937       0.495085  1.361930  1.078642   \nCS_time10_2012   1.701519      0.908847       0.124218  6.172475  1.798034   \nCS_time10_2013   1.420912      0.709562       0.271671  2.251117  0.851653   \n...                   ...           ...            ...       ...       ...   \nPN_time8_2013    1.707775      0.602324       0.257373  4.428061  3.485255   \nPN_time8_2014    3.496872      0.741734       0.422699  2.621984  0.950849   \nPN_time9_2012    2.193923      0.753351       0.097408  5.401251  1.716711   \nPN_time9_2013    1.422699      0.685433       0.205541  4.406613  1.781948   \nPN_time9_2014    3.286863      0.731010       0.439678  5.446828  1.524576   \n\nMetabolite Name    uracil  UDP-glucuronic acid   tyrosol   tyrosine  \\\ngroups                                                                \nCS_time0_2012    0.086685             0.650581  0.110813   1.387846   \nCS_time0_2013    0.202860             1.277033  0.256479   1.069705   \nCS_time0_2014    0.563003             1.026810  0.618409   0.858803   \nCS_time10_2012   0.141197             1.705094  0.134942  56.835567   \nCS_time10_2013   0.204647             1.277033  0.285970   1.787310   \n...                   ...                  ...       ...        ...   \nPN_time8_2013    0.255585             1.798928  0.223414   2.071492   \nPN_time8_2014    0.455764             1.350313  0.547811   2.064343   \nPN_time9_2012    0.186774             2.283289  0.115282   1.880250   \nPN_time9_2013    0.229669             1.989276  0.245755   2.711349   \nPN_time9_2014    0.343164             1.332440  0.459339   1.317248   \n\nMetabolite Name  tryptophan  ...      proline  quercetin-3-glucoside  \\\ngroups                       ...                                       \nCS_time0_2012      4.603217  ...    98.838524               0.923180   \nCS_time0_2013      1.967828  ...  1040.845728              12.307100   \nCS_time0_2014      1.293119  ...   138.256017               6.642696   \nCS_time10_2012     0.456658  ...   210.242434              21.346971   \nCS_time10_2013     0.618409  ...  5721.521059             131.340072   \n...                     ...  ...          ...                    ...   \nPN_time8_2013      1.488829  ...  2433.909025             114.427437   \nPN_time8_2014      1.639857  ...   948.846056              34.157383   \nPN_time9_2012      1.210009  ...    88.710237              13.866339   \nPN_time9_2013      1.933870  ...  2743.561011              61.710710   \nPN_time9_2014      0.827525  ...  1272.529914              73.343157   \n\nMetabolite Name  quercetin-3-glucuronide  resveratrol  \\\ngroups                                                  \nCS_time0_2012                  20.703345     0.000318   \nCS_time0_2013                  77.785800     1.187485   \nCS_time0_2014                  60.868062     1.184399   \nCS_time10_2012                 14.397728     0.000000   \nCS_time10_2013                 67.179783     4.141035   \n...                                  ...          ...   \nPN_time8_2013                 113.285199   229.844525   \nPN_time8_2014                  41.083211    65.457904   \nPN_time9_2012                  27.864049     1.297096   \nPN_time9_2013                  72.058724   130.660891   \nPN_time9_2014                  72.336575   142.974555   \n\nMetabolite Name  resveratrol dimer (pallidol or viniferin)  spirotetramat  \\\ngroups                                                                      \nCS_time0_2012                                     0.000000      10.575021   \nCS_time0_2013                                     0.000000      38.528039   \nCS_time0_2014                                     0.262894       0.000000   \nCS_time10_2012                                    0.000000       4.236117   \nCS_time10_2013                                    0.000000       4.742720   \n...                                                    ...            ...   \nPN_time8_2013                                     5.813718       2.628640   \nPN_time8_2014                                     3.085765       0.000000   \nPN_time9_2012                                     4.812534       2.476580   \nPN_time9_2013                                    10.473646       3.248135   \nPN_time9_2014                                     4.695353       0.000000   \n\nMetabolite Name  splitomicin   taxifolin  tributyl phosphate  tyrosine  \ngroups                                                                  \nCS_time0_2012       0.000000    0.000000           75.369803  0.140542  \nCS_time0_2013       0.000000    0.029844            0.000000  0.000000  \nCS_time0_2014       0.000000    0.880047            0.000000  0.000000  \nCS_time10_2012      0.000000    0.000000           68.386685  0.087802  \nCS_time10_2013      0.000000    6.002407            0.000000  0.000000  \n...                      ...         ...                 ...       ...  \nPN_time8_2013       0.000000  137.692419            0.000000  0.000000  \nPN_time8_2014       0.000000   63.440024            0.000000  0.000000  \nPN_time9_2012       6.371248    9.098453           14.831962  0.378103  \nPN_time9_2013       0.000000  100.708544            0.000000  0.000000  \nPN_time9_2014       0.000000   81.682680            0.000000  0.000000  \n\n[73 rows x 212 columns]",
      "text/html": "<div>\n<style scoped>\n    .dataframe tbody tr th:only-of-type {\n        vertical-align: middle;\n    }\n\n    .dataframe tbody tr th {\n        vertical-align: top;\n    }\n\n    .dataframe thead th {\n        text-align: right;\n    }\n</style>\n<table border=\"1\" class=\"dataframe\">\n  <thead>\n    <tr style=\"text-align: right;\">\n      <th>Metabolite Name</th>\n      <th>xylose</th>\n      <th>xylonic acid</th>\n      <th>vanillic acid</th>\n      <th>valine</th>\n      <th>urea</th>\n      <th>uracil</th>\n      <th>UDP-glucuronic acid</th>\n      <th>tyrosol</th>\n      <th>tyrosine</th>\n      <th>tryptophan</th>\n      <th>...</th>\n      <th>proline</th>\n      <th>quercetin-3-glucoside</th>\n      <th>quercetin-3-glucuronide</th>\n      <th>resveratrol</th>\n      <th>resveratrol dimer (pallidol or viniferin)</th>\n      <th>spirotetramat</th>\n      <th>splitomicin</th>\n      <th>taxifolin</th>\n      <th>tributyl phosphate</th>\n      <th>tyrosine</th>\n    </tr>\n    <tr>\n      <th>groups</th>\n      <th></th>\n      <th></th>\n      <th></th>\n      <th></th>\n      <th></th>\n      <th></th>\n      <th></th>\n      <th></th>\n      <th></th>\n      <th></th>\n      <th></th>\n      <th></th>\n      <th></th>\n      <th></th>\n      <th></th>\n      <th></th>\n      <th></th>\n      <th></th>\n      <th></th>\n      <th></th>\n      <th></th>\n    </tr>\n  </thead>\n  <tbody>\n    <tr>\n      <th>CS_time0_2012</th>\n      <td>3.731010</td>\n      <td>0.286863</td>\n      <td>0.117069</td>\n      <td>1.730116</td>\n      <td>1.216265</td>\n      <td>0.086685</td>\n      <td>0.650581</td>\n      <td>0.110813</td>\n      <td>1.387846</td>\n      <td>4.603217</td>\n      <td>...</td>\n      <td>98.838524</td>\n      <td>0.923180</td>\n      <td>20.703345</td>\n      <td>0.000318</td>\n      <td>0.000000</td>\n      <td>10.575021</td>\n      <td>0.000000</td>\n      <td>0.000000</td>\n      <td>75.369803</td>\n      <td>0.140542</td>\n    </tr>\n    <tr>\n      <th>CS_time0_2013</th>\n      <td>3.248436</td>\n      <td>0.571939</td>\n      <td>0.219839</td>\n      <td>0.758713</td>\n      <td>1.244861</td>\n      <td>0.202860</td>\n      <td>1.277033</td>\n      <td>0.256479</td>\n      <td>1.069705</td>\n      <td>1.967828</td>\n      <td>...</td>\n      <td>1040.845728</td>\n      <td>12.307100</td>\n      <td>77.785800</td>\n      <td>1.187485</td>\n      <td>0.000000</td>\n      <td>38.528039</td>\n      <td>0.000000</td>\n      <td>0.029844</td>\n      <td>0.000000</td>\n      <td>0.000000</td>\n    </tr>\n    <tr>\n      <th>CS_time0_2014</th>\n      <td>2.293119</td>\n      <td>0.529937</td>\n      <td>0.495085</td>\n      <td>1.361930</td>\n      <td>1.078642</td>\n      <td>0.563003</td>\n      <td>1.026810</td>\n      <td>0.618409</td>\n      <td>0.858803</td>\n      <td>1.293119</td>\n      <td>...</td>\n      <td>138.256017</td>\n      <td>6.642696</td>\n      <td>60.868062</td>\n      <td>1.184399</td>\n      <td>0.262894</td>\n      <td>0.000000</td>\n      <td>0.000000</td>\n      <td>0.880047</td>\n      <td>0.000000</td>\n      <td>0.000000</td>\n    </tr>\n    <tr>\n      <th>CS_time10_2012</th>\n      <td>1.701519</td>\n      <td>0.908847</td>\n      <td>0.124218</td>\n      <td>6.172475</td>\n      <td>1.798034</td>\n      <td>0.141197</td>\n      <td>1.705094</td>\n      <td>0.134942</td>\n      <td>56.835567</td>\n      <td>0.456658</td>\n      <td>...</td>\n      <td>210.242434</td>\n      <td>21.346971</td>\n      <td>14.397728</td>\n      <td>0.000000</td>\n      <td>0.000000</td>\n      <td>4.236117</td>\n      <td>0.000000</td>\n      <td>0.000000</td>\n      <td>68.386685</td>\n      <td>0.087802</td>\n    </tr>\n    <tr>\n      <th>CS_time10_2013</th>\n      <td>1.420912</td>\n      <td>0.709562</td>\n      <td>0.271671</td>\n      <td>2.251117</td>\n      <td>0.851653</td>\n      <td>0.204647</td>\n      <td>1.277033</td>\n      <td>0.285970</td>\n      <td>1.787310</td>\n      <td>0.618409</td>\n      <td>...</td>\n      <td>5721.521059</td>\n      <td>131.340072</td>\n      <td>67.179783</td>\n      <td>4.141035</td>\n      <td>0.000000</td>\n      <td>4.742720</td>\n      <td>0.000000</td>\n      <td>6.002407</td>\n      <td>0.000000</td>\n      <td>0.000000</td>\n    </tr>\n    <tr>\n      <th>...</th>\n      <td>...</td>\n      <td>...</td>\n      <td>...</td>\n      <td>...</td>\n      <td>...</td>\n      <td>...</td>\n      <td>...</td>\n      <td>...</td>\n      <td>...</td>\n      <td>...</td>\n      <td>...</td>\n      <td>...</td>\n      <td>...</td>\n      <td>...</td>\n      <td>...</td>\n      <td>...</td>\n      <td>...</td>\n      <td>...</td>\n      <td>...</td>\n      <td>...</td>\n      <td>...</td>\n    </tr>\n    <tr>\n      <th>PN_time8_2013</th>\n      <td>1.707775</td>\n      <td>0.602324</td>\n      <td>0.257373</td>\n      <td>4.428061</td>\n      <td>3.485255</td>\n      <td>0.255585</td>\n      <td>1.798928</td>\n      <td>0.223414</td>\n      <td>2.071492</td>\n      <td>1.488829</td>\n      <td>...</td>\n      <td>2433.909025</td>\n      <td>114.427437</td>\n      <td>113.285199</td>\n      <td>229.844525</td>\n      <td>5.813718</td>\n      <td>2.628640</td>\n      <td>0.000000</td>\n      <td>137.692419</td>\n      <td>0.000000</td>\n      <td>0.000000</td>\n    </tr>\n    <tr>\n      <th>PN_time8_2014</th>\n      <td>3.496872</td>\n      <td>0.741734</td>\n      <td>0.422699</td>\n      <td>2.621984</td>\n      <td>0.950849</td>\n      <td>0.455764</td>\n      <td>1.350313</td>\n      <td>0.547811</td>\n      <td>2.064343</td>\n      <td>1.639857</td>\n      <td>...</td>\n      <td>948.846056</td>\n      <td>34.157383</td>\n      <td>41.083211</td>\n      <td>65.457904</td>\n      <td>3.085765</td>\n      <td>0.000000</td>\n      <td>0.000000</td>\n      <td>63.440024</td>\n      <td>0.000000</td>\n      <td>0.000000</td>\n    </tr>\n    <tr>\n      <th>PN_time9_2012</th>\n      <td>2.193923</td>\n      <td>0.753351</td>\n      <td>0.097408</td>\n      <td>5.401251</td>\n      <td>1.716711</td>\n      <td>0.186774</td>\n      <td>2.283289</td>\n      <td>0.115282</td>\n      <td>1.880250</td>\n      <td>1.210009</td>\n      <td>...</td>\n      <td>88.710237</td>\n      <td>13.866339</td>\n      <td>27.864049</td>\n      <td>1.297096</td>\n      <td>4.812534</td>\n      <td>2.476580</td>\n      <td>6.371248</td>\n      <td>9.098453</td>\n      <td>14.831962</td>\n      <td>0.378103</td>\n    </tr>\n    <tr>\n      <th>PN_time9_2013</th>\n      <td>1.422699</td>\n      <td>0.685433</td>\n      <td>0.205541</td>\n      <td>4.406613</td>\n      <td>1.781948</td>\n      <td>0.229669</td>\n      <td>1.989276</td>\n      <td>0.245755</td>\n      <td>2.711349</td>\n      <td>1.933870</td>\n      <td>...</td>\n      <td>2743.561011</td>\n      <td>61.710710</td>\n      <td>72.058724</td>\n      <td>130.660891</td>\n      <td>10.473646</td>\n      <td>3.248135</td>\n      <td>0.000000</td>\n      <td>100.708544</td>\n      <td>0.000000</td>\n      <td>0.000000</td>\n    </tr>\n    <tr>\n      <th>PN_time9_2014</th>\n      <td>3.286863</td>\n      <td>0.731010</td>\n      <td>0.439678</td>\n      <td>5.446828</td>\n      <td>1.524576</td>\n      <td>0.343164</td>\n      <td>1.332440</td>\n      <td>0.459339</td>\n      <td>1.317248</td>\n      <td>0.827525</td>\n      <td>...</td>\n      <td>1272.529914</td>\n      <td>73.343157</td>\n      <td>72.336575</td>\n      <td>142.974555</td>\n      <td>4.695353</td>\n      <td>0.000000</td>\n      <td>0.000000</td>\n      <td>81.682680</td>\n      <td>0.000000</td>\n      <td>0.000000</td>\n    </tr>\n  </tbody>\n</table>\n<p>73 rows × 212 columns</p>\n</div>"
     },
     "execution_count": 9,
     "metadata": {},
     "output_type": "execute_result"
    }
   ],
   "source": [
    "data_mets_noreps = data_mets.groupby(metadata_mets_conv['groups']).mean()\n",
    "data_mets_noreps"
   ],
   "metadata": {
    "collapsed": false,
    "ExecuteTime": {
     "end_time": "2024-03-10T19:13:01.747727100Z",
     "start_time": "2024-03-10T19:13:01.676435400Z"
    }
   },
   "id": "cf270adf1138b039"
  },
  {
   "cell_type": "code",
   "execution_count": 19,
   "outputs": [],
   "source": [
    "Xtrain_RNAseq = pd.read_csv(os.path.join('C:/Users/BiSBII/Documents/MM_ML/data', 'DIABLO_INPUT', 'XTRAIN_RNASEQ_ALL_500_GENES_NOREPS_NEWSPLIT.csv'), index_col=0)"
   ],
   "metadata": {
    "collapsed": false,
    "ExecuteTime": {
     "end_time": "2024-03-06T11:10:21.791890200Z",
     "start_time": "2024-03-06T11:10:21.765855300Z"
    }
   },
   "id": "fa83f83f2085d58f"
  },
  {
   "cell_type": "code",
   "execution_count": 20,
   "outputs": [],
   "source": [
    "Xtrain_mets = data_mets_noreps.loc[Xtrain_RNAseq.index, :]"
   ],
   "metadata": {
    "collapsed": false,
    "ExecuteTime": {
     "end_time": "2024-03-06T11:10:23.452925200Z",
     "start_time": "2024-03-06T11:10:23.431875800Z"
    }
   },
   "id": "5652daa4ea0fd25f"
  },
  {
   "cell_type": "code",
   "execution_count": 21,
   "outputs": [],
   "source": [
    "Xtest_RNAseq = pd.read_csv(os.path.join('C:/Users/BiSBII/Documents/MM_ML/data', 'DIABLO_INPUT', 'XTEST_RNASEQ_ALL_500_GENES_NOREPS_NEWSPLIT.csv'), index_col=0)"
   ],
   "metadata": {
    "collapsed": false,
    "ExecuteTime": {
     "end_time": "2024-03-06T11:10:24.931996800Z",
     "start_time": "2024-03-06T11:10:24.908128300Z"
    }
   },
   "id": "8c943f9cd15e54d6"
  },
  {
   "cell_type": "code",
   "execution_count": 22,
   "outputs": [],
   "source": [
    "Xtest_mets = data_mets_noreps.loc[Xtest_RNAseq.index, :]"
   ],
   "metadata": {
    "collapsed": false,
    "ExecuteTime": {
     "end_time": "2024-03-06T11:10:26.609773800Z",
     "start_time": "2024-03-06T11:10:26.579607300Z"
    }
   },
   "id": "bba4de010eb73b40"
  },
  {
   "cell_type": "markdown",
   "source": [
    "vt filter"
   ],
   "metadata": {
    "collapsed": false
   },
   "id": "f90e508e8881fc87"
  },
  {
   "cell_type": "code",
   "execution_count": 23,
   "outputs": [
    {
     "name": "stderr",
     "output_type": "stream",
     "text": [
      "C:\\Users\\BiSBII\\anaconda3\\envs\\multiomics\\Lib\\site-packages\\sklearn\\utils\\validation.py:767: FutureWarning: is_sparse is deprecated and will be removed in a future version. Check `isinstance(dtype, pd.SparseDtype)` instead.\n",
      "  if not hasattr(array, \"sparse\") and array.dtypes.apply(is_sparse).any():\n",
      "C:\\Users\\BiSBII\\anaconda3\\envs\\multiomics\\Lib\\site-packages\\sklearn\\utils\\validation.py:605: FutureWarning: is_sparse is deprecated and will be removed in a future version. Check `isinstance(dtype, pd.SparseDtype)` instead.\n",
      "  if is_sparse(pd_dtype):\n",
      "C:\\Users\\BiSBII\\anaconda3\\envs\\multiomics\\Lib\\site-packages\\sklearn\\utils\\validation.py:614: FutureWarning: is_sparse is deprecated and will be removed in a future version. Check `isinstance(dtype, pd.SparseDtype)` instead.\n",
      "  if is_sparse(pd_dtype) or not is_extension_array_dtype(pd_dtype):\n",
      "C:\\Users\\BiSBII\\anaconda3\\envs\\multiomics\\Lib\\site-packages\\sklearn\\utils\\validation.py:767: FutureWarning: is_sparse is deprecated and will be removed in a future version. Check `isinstance(dtype, pd.SparseDtype)` instead.\n",
      "  if not hasattr(array, \"sparse\") and array.dtypes.apply(is_sparse).any():\n",
      "C:\\Users\\BiSBII\\anaconda3\\envs\\multiomics\\Lib\\site-packages\\sklearn\\utils\\validation.py:605: FutureWarning: is_sparse is deprecated and will be removed in a future version. Check `isinstance(dtype, pd.SparseDtype)` instead.\n",
      "  if is_sparse(pd_dtype):\n",
      "C:\\Users\\BiSBII\\anaconda3\\envs\\multiomics\\Lib\\site-packages\\sklearn\\utils\\validation.py:614: FutureWarning: is_sparse is deprecated and will be removed in a future version. Check `isinstance(dtype, pd.SparseDtype)` instead.\n",
      "  if is_sparse(pd_dtype) or not is_extension_array_dtype(pd_dtype):\n",
      "C:\\Users\\BiSBII\\anaconda3\\envs\\multiomics\\Lib\\site-packages\\sklearn\\utils\\validation.py:767: FutureWarning: is_sparse is deprecated and will be removed in a future version. Check `isinstance(dtype, pd.SparseDtype)` instead.\n",
      "  if not hasattr(array, \"sparse\") and array.dtypes.apply(is_sparse).any():\n",
      "C:\\Users\\BiSBII\\anaconda3\\envs\\multiomics\\Lib\\site-packages\\sklearn\\utils\\validation.py:605: FutureWarning: is_sparse is deprecated and will be removed in a future version. Check `isinstance(dtype, pd.SparseDtype)` instead.\n",
      "  if is_sparse(pd_dtype):\n",
      "C:\\Users\\BiSBII\\anaconda3\\envs\\multiomics\\Lib\\site-packages\\sklearn\\utils\\validation.py:614: FutureWarning: is_sparse is deprecated and will be removed in a future version. Check `isinstance(dtype, pd.SparseDtype)` instead.\n",
      "  if is_sparse(pd_dtype) or not is_extension_array_dtype(pd_dtype):\n"
     ]
    },
    {
     "data": {
      "text/plain": "(58, 208)"
     },
     "execution_count": 23,
     "metadata": {},
     "output_type": "execute_result"
    }
   ],
   "source": [
    "vt = VarianceThreshold(0).fit(Xtrain_mets)\n",
    "X_train_filtered = vt.transform(Xtrain_mets)\n",
    "X_test_filtered = vt.transform(Xtest_mets)\n",
    "cols_inds_vt = vt.get_support(indices=True)\n",
    "X_train_filtered_df = pd.DataFrame(X_train_filtered, index=Xtrain_mets.index, columns=Xtrain_mets.columns[cols_inds_vt])\n",
    "X_test_filtered_df = pd.DataFrame(X_test_filtered, index=Xtest_mets.index, columns=Xtest_mets.columns[cols_inds_vt])\n",
    "\n",
    "X_train_filtered_df.shape"
   ],
   "metadata": {
    "collapsed": false,
    "ExecuteTime": {
     "end_time": "2024-03-06T11:10:28.574036600Z",
     "start_time": "2024-03-06T11:10:28.535429500Z"
    }
   },
   "id": "226ff0738a4e5002"
  },
  {
   "cell_type": "markdown",
   "source": [
    "scaling the data before saving"
   ],
   "metadata": {
    "collapsed": false
   },
   "id": "42fec0d33bff4298"
  },
  {
   "cell_type": "code",
   "execution_count": 24,
   "outputs": [
    {
     "name": "stderr",
     "output_type": "stream",
     "text": [
      "C:\\Users\\BiSBII\\anaconda3\\envs\\multiomics\\Lib\\site-packages\\sklearn\\utils\\validation.py:767: FutureWarning: is_sparse is deprecated and will be removed in a future version. Check `isinstance(dtype, pd.SparseDtype)` instead.\n",
      "  if not hasattr(array, \"sparse\") and array.dtypes.apply(is_sparse).any():\n",
      "C:\\Users\\BiSBII\\anaconda3\\envs\\multiomics\\Lib\\site-packages\\sklearn\\utils\\validation.py:605: FutureWarning: is_sparse is deprecated and will be removed in a future version. Check `isinstance(dtype, pd.SparseDtype)` instead.\n",
      "  if is_sparse(pd_dtype):\n",
      "C:\\Users\\BiSBII\\anaconda3\\envs\\multiomics\\Lib\\site-packages\\sklearn\\utils\\validation.py:614: FutureWarning: is_sparse is deprecated and will be removed in a future version. Check `isinstance(dtype, pd.SparseDtype)` instead.\n",
      "  if is_sparse(pd_dtype) or not is_extension_array_dtype(pd_dtype):\n",
      "C:\\Users\\BiSBII\\anaconda3\\envs\\multiomics\\Lib\\site-packages\\sklearn\\utils\\validation.py:767: FutureWarning: is_sparse is deprecated and will be removed in a future version. Check `isinstance(dtype, pd.SparseDtype)` instead.\n",
      "  if not hasattr(array, \"sparse\") and array.dtypes.apply(is_sparse).any():\n",
      "C:\\Users\\BiSBII\\anaconda3\\envs\\multiomics\\Lib\\site-packages\\sklearn\\utils\\validation.py:605: FutureWarning: is_sparse is deprecated and will be removed in a future version. Check `isinstance(dtype, pd.SparseDtype)` instead.\n",
      "  if is_sparse(pd_dtype):\n",
      "C:\\Users\\BiSBII\\anaconda3\\envs\\multiomics\\Lib\\site-packages\\sklearn\\utils\\validation.py:614: FutureWarning: is_sparse is deprecated and will be removed in a future version. Check `isinstance(dtype, pd.SparseDtype)` instead.\n",
      "  if is_sparse(pd_dtype) or not is_extension_array_dtype(pd_dtype):\n",
      "C:\\Users\\BiSBII\\anaconda3\\envs\\multiomics\\Lib\\site-packages\\sklearn\\utils\\validation.py:767: FutureWarning: is_sparse is deprecated and will be removed in a future version. Check `isinstance(dtype, pd.SparseDtype)` instead.\n",
      "  if not hasattr(array, \"sparse\") and array.dtypes.apply(is_sparse).any():\n",
      "C:\\Users\\BiSBII\\anaconda3\\envs\\multiomics\\Lib\\site-packages\\sklearn\\utils\\validation.py:605: FutureWarning: is_sparse is deprecated and will be removed in a future version. Check `isinstance(dtype, pd.SparseDtype)` instead.\n",
      "  if is_sparse(pd_dtype):\n",
      "C:\\Users\\BiSBII\\anaconda3\\envs\\multiomics\\Lib\\site-packages\\sklearn\\utils\\validation.py:614: FutureWarning: is_sparse is deprecated and will be removed in a future version. Check `isinstance(dtype, pd.SparseDtype)` instead.\n",
      "  if is_sparse(pd_dtype) or not is_extension_array_dtype(pd_dtype):\n"
     ]
    }
   ],
   "source": [
    "scaler_model = StandardScaler().fit(X_train_filtered_df)\n",
    "X_train_scaled = scaler_model.transform(X_train_filtered_df)\n",
    "X_test_scaled = scaler_model.transform(X_test_filtered_df)"
   ],
   "metadata": {
    "collapsed": false,
    "ExecuteTime": {
     "end_time": "2024-03-06T11:10:30.756960100Z",
     "start_time": "2024-03-06T11:10:30.721030400Z"
    }
   },
   "id": "ce3556c8c215db72"
  },
  {
   "cell_type": "code",
   "execution_count": 25,
   "outputs": [],
   "source": [
    "X_train_scaled_df = pd.DataFrame(X_train_scaled, columns=X_train_filtered_df.columns, index=X_train_filtered_df.index)\n",
    "X_test_scaled_df = pd.DataFrame(X_test_scaled, columns=X_test_filtered_df.columns, index=X_test_filtered_df.index)"
   ],
   "metadata": {
    "collapsed": false,
    "ExecuteTime": {
     "end_time": "2024-03-06T11:10:32.844814500Z",
     "start_time": "2024-03-06T11:10:32.824203800Z"
    }
   },
   "id": "c430b608b08c4b31"
  },
  {
   "cell_type": "code",
   "execution_count": 26,
   "outputs": [],
   "source": [
    "X_train_scaled_df.to_csv(os.path.join('C:/Users/BiSBII/Documents/MM_ML/data', 'DIABLO_INPUT', 'XTRAIN_METABOLOMICS_NOREPS_VT_NEWSPLIT.csv'))"
   ],
   "metadata": {
    "collapsed": false,
    "ExecuteTime": {
     "end_time": "2024-03-06T11:10:34.414428500Z",
     "start_time": "2024-03-06T11:10:34.383043300Z"
    }
   },
   "id": "d45bc201e06747ed"
  },
  {
   "cell_type": "code",
   "execution_count": 27,
   "outputs": [],
   "source": [
    "X_test_scaled_df.to_csv(os.path.join('C:/Users/BiSBII/Documents/MM_ML/data', 'DIABLO_INPUT', 'XTEST_METABOLOMICS_NOREPS_VT_NEWSPLIT.csv'))"
   ],
   "metadata": {
    "collapsed": false,
    "ExecuteTime": {
     "end_time": "2024-03-06T11:10:35.957302100Z",
     "start_time": "2024-03-06T11:10:35.933971100Z"
    }
   },
   "id": "4dcd3b7b2fc2db63"
  },
  {
   "cell_type": "markdown",
   "source": [
    "# several splits"
   ],
   "metadata": {
    "collapsed": false
   },
   "id": "717b3bfe80b95d56"
  },
  {
   "cell_type": "code",
   "execution_count": 11,
   "outputs": [
    {
     "name": "stdout",
     "output_type": "stream",
     "text": [
      "0\n",
      "1\n"
     ]
    },
    {
     "name": "stderr",
     "output_type": "stream",
     "text": [
      "C:\\Users\\BiSBII\\anaconda3\\envs\\multiomics\\Lib\\site-packages\\sklearn\\utils\\validation.py:767: FutureWarning: is_sparse is deprecated and will be removed in a future version. Check `isinstance(dtype, pd.SparseDtype)` instead.\n",
      "  if not hasattr(array, \"sparse\") and array.dtypes.apply(is_sparse).any():\n",
      "C:\\Users\\BiSBII\\anaconda3\\envs\\multiomics\\Lib\\site-packages\\sklearn\\utils\\validation.py:605: FutureWarning: is_sparse is deprecated and will be removed in a future version. Check `isinstance(dtype, pd.SparseDtype)` instead.\n",
      "  if is_sparse(pd_dtype):\n",
      "C:\\Users\\BiSBII\\anaconda3\\envs\\multiomics\\Lib\\site-packages\\sklearn\\utils\\validation.py:614: FutureWarning: is_sparse is deprecated and will be removed in a future version. Check `isinstance(dtype, pd.SparseDtype)` instead.\n",
      "  if is_sparse(pd_dtype) or not is_extension_array_dtype(pd_dtype):\n",
      "C:\\Users\\BiSBII\\anaconda3\\envs\\multiomics\\Lib\\site-packages\\sklearn\\utils\\validation.py:767: FutureWarning: is_sparse is deprecated and will be removed in a future version. Check `isinstance(dtype, pd.SparseDtype)` instead.\n",
      "  if not hasattr(array, \"sparse\") and array.dtypes.apply(is_sparse).any():\n",
      "C:\\Users\\BiSBII\\anaconda3\\envs\\multiomics\\Lib\\site-packages\\sklearn\\utils\\validation.py:605: FutureWarning: is_sparse is deprecated and will be removed in a future version. Check `isinstance(dtype, pd.SparseDtype)` instead.\n",
      "  if is_sparse(pd_dtype):\n",
      "C:\\Users\\BiSBII\\anaconda3\\envs\\multiomics\\Lib\\site-packages\\sklearn\\utils\\validation.py:614: FutureWarning: is_sparse is deprecated and will be removed in a future version. Check `isinstance(dtype, pd.SparseDtype)` instead.\n",
      "  if is_sparse(pd_dtype) or not is_extension_array_dtype(pd_dtype):\n",
      "C:\\Users\\BiSBII\\anaconda3\\envs\\multiomics\\Lib\\site-packages\\sklearn\\utils\\validation.py:767: FutureWarning: is_sparse is deprecated and will be removed in a future version. Check `isinstance(dtype, pd.SparseDtype)` instead.\n",
      "  if not hasattr(array, \"sparse\") and array.dtypes.apply(is_sparse).any():\n",
      "C:\\Users\\BiSBII\\anaconda3\\envs\\multiomics\\Lib\\site-packages\\sklearn\\utils\\validation.py:605: FutureWarning: is_sparse is deprecated and will be removed in a future version. Check `isinstance(dtype, pd.SparseDtype)` instead.\n",
      "  if is_sparse(pd_dtype):\n",
      "C:\\Users\\BiSBII\\anaconda3\\envs\\multiomics\\Lib\\site-packages\\sklearn\\utils\\validation.py:614: FutureWarning: is_sparse is deprecated and will be removed in a future version. Check `isinstance(dtype, pd.SparseDtype)` instead.\n",
      "  if is_sparse(pd_dtype) or not is_extension_array_dtype(pd_dtype):\n",
      "C:\\Users\\BiSBII\\anaconda3\\envs\\multiomics\\Lib\\site-packages\\sklearn\\utils\\validation.py:767: FutureWarning: is_sparse is deprecated and will be removed in a future version. Check `isinstance(dtype, pd.SparseDtype)` instead.\n",
      "  if not hasattr(array, \"sparse\") and array.dtypes.apply(is_sparse).any():\n",
      "C:\\Users\\BiSBII\\anaconda3\\envs\\multiomics\\Lib\\site-packages\\sklearn\\utils\\validation.py:605: FutureWarning: is_sparse is deprecated and will be removed in a future version. Check `isinstance(dtype, pd.SparseDtype)` instead.\n",
      "  if is_sparse(pd_dtype):\n",
      "C:\\Users\\BiSBII\\anaconda3\\envs\\multiomics\\Lib\\site-packages\\sklearn\\utils\\validation.py:614: FutureWarning: is_sparse is deprecated and will be removed in a future version. Check `isinstance(dtype, pd.SparseDtype)` instead.\n",
      "  if is_sparse(pd_dtype) or not is_extension_array_dtype(pd_dtype):\n",
      "C:\\Users\\BiSBII\\anaconda3\\envs\\multiomics\\Lib\\site-packages\\sklearn\\utils\\validation.py:767: FutureWarning: is_sparse is deprecated and will be removed in a future version. Check `isinstance(dtype, pd.SparseDtype)` instead.\n",
      "  if not hasattr(array, \"sparse\") and array.dtypes.apply(is_sparse).any():\n",
      "C:\\Users\\BiSBII\\anaconda3\\envs\\multiomics\\Lib\\site-packages\\sklearn\\utils\\validation.py:605: FutureWarning: is_sparse is deprecated and will be removed in a future version. Check `isinstance(dtype, pd.SparseDtype)` instead.\n",
      "  if is_sparse(pd_dtype):\n",
      "C:\\Users\\BiSBII\\anaconda3\\envs\\multiomics\\Lib\\site-packages\\sklearn\\utils\\validation.py:614: FutureWarning: is_sparse is deprecated and will be removed in a future version. Check `isinstance(dtype, pd.SparseDtype)` instead.\n",
      "  if is_sparse(pd_dtype) or not is_extension_array_dtype(pd_dtype):\n",
      "C:\\Users\\BiSBII\\anaconda3\\envs\\multiomics\\Lib\\site-packages\\sklearn\\utils\\validation.py:767: FutureWarning: is_sparse is deprecated and will be removed in a future version. Check `isinstance(dtype, pd.SparseDtype)` instead.\n",
      "  if not hasattr(array, \"sparse\") and array.dtypes.apply(is_sparse).any():\n",
      "C:\\Users\\BiSBII\\anaconda3\\envs\\multiomics\\Lib\\site-packages\\sklearn\\utils\\validation.py:605: FutureWarning: is_sparse is deprecated and will be removed in a future version. Check `isinstance(dtype, pd.SparseDtype)` instead.\n",
      "  if is_sparse(pd_dtype):\n",
      "C:\\Users\\BiSBII\\anaconda3\\envs\\multiomics\\Lib\\site-packages\\sklearn\\utils\\validation.py:614: FutureWarning: is_sparse is deprecated and will be removed in a future version. Check `isinstance(dtype, pd.SparseDtype)` instead.\n",
      "  if is_sparse(pd_dtype) or not is_extension_array_dtype(pd_dtype):\n",
      "C:\\Users\\BiSBII\\anaconda3\\envs\\multiomics\\Lib\\site-packages\\sklearn\\utils\\validation.py:767: FutureWarning: is_sparse is deprecated and will be removed in a future version. Check `isinstance(dtype, pd.SparseDtype)` instead.\n",
      "  if not hasattr(array, \"sparse\") and array.dtypes.apply(is_sparse).any():\n",
      "C:\\Users\\BiSBII\\anaconda3\\envs\\multiomics\\Lib\\site-packages\\sklearn\\utils\\validation.py:605: FutureWarning: is_sparse is deprecated and will be removed in a future version. Check `isinstance(dtype, pd.SparseDtype)` instead.\n",
      "  if is_sparse(pd_dtype):\n",
      "C:\\Users\\BiSBII\\anaconda3\\envs\\multiomics\\Lib\\site-packages\\sklearn\\utils\\validation.py:614: FutureWarning: is_sparse is deprecated and will be removed in a future version. Check `isinstance(dtype, pd.SparseDtype)` instead.\n",
      "  if is_sparse(pd_dtype) or not is_extension_array_dtype(pd_dtype):\n",
      "C:\\Users\\BiSBII\\anaconda3\\envs\\multiomics\\Lib\\site-packages\\sklearn\\utils\\validation.py:767: FutureWarning: is_sparse is deprecated and will be removed in a future version. Check `isinstance(dtype, pd.SparseDtype)` instead.\n",
      "  if not hasattr(array, \"sparse\") and array.dtypes.apply(is_sparse).any():\n",
      "C:\\Users\\BiSBII\\anaconda3\\envs\\multiomics\\Lib\\site-packages\\sklearn\\utils\\validation.py:605: FutureWarning: is_sparse is deprecated and will be removed in a future version. Check `isinstance(dtype, pd.SparseDtype)` instead.\n",
      "  if is_sparse(pd_dtype):\n",
      "C:\\Users\\BiSBII\\anaconda3\\envs\\multiomics\\Lib\\site-packages\\sklearn\\utils\\validation.py:614: FutureWarning: is_sparse is deprecated and will be removed in a future version. Check `isinstance(dtype, pd.SparseDtype)` instead.\n",
      "  if is_sparse(pd_dtype) or not is_extension_array_dtype(pd_dtype):\n",
      "C:\\Users\\BiSBII\\anaconda3\\envs\\multiomics\\Lib\\site-packages\\sklearn\\utils\\validation.py:767: FutureWarning: is_sparse is deprecated and will be removed in a future version. Check `isinstance(dtype, pd.SparseDtype)` instead.\n",
      "  if not hasattr(array, \"sparse\") and array.dtypes.apply(is_sparse).any():\n",
      "C:\\Users\\BiSBII\\anaconda3\\envs\\multiomics\\Lib\\site-packages\\sklearn\\utils\\validation.py:605: FutureWarning: is_sparse is deprecated and will be removed in a future version. Check `isinstance(dtype, pd.SparseDtype)` instead.\n",
      "  if is_sparse(pd_dtype):\n",
      "C:\\Users\\BiSBII\\anaconda3\\envs\\multiomics\\Lib\\site-packages\\sklearn\\utils\\validation.py:614: FutureWarning: is_sparse is deprecated and will be removed in a future version. Check `isinstance(dtype, pd.SparseDtype)` instead.\n",
      "  if is_sparse(pd_dtype) or not is_extension_array_dtype(pd_dtype):\n",
      "C:\\Users\\BiSBII\\anaconda3\\envs\\multiomics\\Lib\\site-packages\\sklearn\\utils\\validation.py:767: FutureWarning: is_sparse is deprecated and will be removed in a future version. Check `isinstance(dtype, pd.SparseDtype)` instead.\n",
      "  if not hasattr(array, \"sparse\") and array.dtypes.apply(is_sparse).any():\n",
      "C:\\Users\\BiSBII\\anaconda3\\envs\\multiomics\\Lib\\site-packages\\sklearn\\utils\\validation.py:605: FutureWarning: is_sparse is deprecated and will be removed in a future version. Check `isinstance(dtype, pd.SparseDtype)` instead.\n",
      "  if is_sparse(pd_dtype):\n",
      "C:\\Users\\BiSBII\\anaconda3\\envs\\multiomics\\Lib\\site-packages\\sklearn\\utils\\validation.py:614: FutureWarning: is_sparse is deprecated and will be removed in a future version. Check `isinstance(dtype, pd.SparseDtype)` instead.\n",
      "  if is_sparse(pd_dtype) or not is_extension_array_dtype(pd_dtype):\n",
      "C:\\Users\\BiSBII\\anaconda3\\envs\\multiomics\\Lib\\site-packages\\sklearn\\utils\\validation.py:767: FutureWarning: is_sparse is deprecated and will be removed in a future version. Check `isinstance(dtype, pd.SparseDtype)` instead.\n",
      "  if not hasattr(array, \"sparse\") and array.dtypes.apply(is_sparse).any():\n",
      "C:\\Users\\BiSBII\\anaconda3\\envs\\multiomics\\Lib\\site-packages\\sklearn\\utils\\validation.py:605: FutureWarning: is_sparse is deprecated and will be removed in a future version. Check `isinstance(dtype, pd.SparseDtype)` instead.\n",
      "  if is_sparse(pd_dtype):\n",
      "C:\\Users\\BiSBII\\anaconda3\\envs\\multiomics\\Lib\\site-packages\\sklearn\\utils\\validation.py:614: FutureWarning: is_sparse is deprecated and will be removed in a future version. Check `isinstance(dtype, pd.SparseDtype)` instead.\n",
      "  if is_sparse(pd_dtype) or not is_extension_array_dtype(pd_dtype):\n",
      "C:\\Users\\BiSBII\\anaconda3\\envs\\multiomics\\Lib\\site-packages\\sklearn\\utils\\validation.py:767: FutureWarning: is_sparse is deprecated and will be removed in a future version. Check `isinstance(dtype, pd.SparseDtype)` instead.\n",
      "  if not hasattr(array, \"sparse\") and array.dtypes.apply(is_sparse).any():\n",
      "C:\\Users\\BiSBII\\anaconda3\\envs\\multiomics\\Lib\\site-packages\\sklearn\\utils\\validation.py:605: FutureWarning: is_sparse is deprecated and will be removed in a future version. Check `isinstance(dtype, pd.SparseDtype)` instead.\n",
      "  if is_sparse(pd_dtype):\n",
      "C:\\Users\\BiSBII\\anaconda3\\envs\\multiomics\\Lib\\site-packages\\sklearn\\utils\\validation.py:614: FutureWarning: is_sparse is deprecated and will be removed in a future version. Check `isinstance(dtype, pd.SparseDtype)` instead.\n",
      "  if is_sparse(pd_dtype) or not is_extension_array_dtype(pd_dtype):\n",
      "C:\\Users\\BiSBII\\anaconda3\\envs\\multiomics\\Lib\\site-packages\\sklearn\\utils\\validation.py:767: FutureWarning: is_sparse is deprecated and will be removed in a future version. Check `isinstance(dtype, pd.SparseDtype)` instead.\n",
      "  if not hasattr(array, \"sparse\") and array.dtypes.apply(is_sparse).any():\n",
      "C:\\Users\\BiSBII\\anaconda3\\envs\\multiomics\\Lib\\site-packages\\sklearn\\utils\\validation.py:605: FutureWarning: is_sparse is deprecated and will be removed in a future version. Check `isinstance(dtype, pd.SparseDtype)` instead.\n",
      "  if is_sparse(pd_dtype):\n",
      "C:\\Users\\BiSBII\\anaconda3\\envs\\multiomics\\Lib\\site-packages\\sklearn\\utils\\validation.py:614: FutureWarning: is_sparse is deprecated and will be removed in a future version. Check `isinstance(dtype, pd.SparseDtype)` instead.\n",
      "  if is_sparse(pd_dtype) or not is_extension_array_dtype(pd_dtype):\n",
      "C:\\Users\\BiSBII\\anaconda3\\envs\\multiomics\\Lib\\site-packages\\sklearn\\utils\\validation.py:767: FutureWarning: is_sparse is deprecated and will be removed in a future version. Check `isinstance(dtype, pd.SparseDtype)` instead.\n",
      "  if not hasattr(array, \"sparse\") and array.dtypes.apply(is_sparse).any():\n",
      "C:\\Users\\BiSBII\\anaconda3\\envs\\multiomics\\Lib\\site-packages\\sklearn\\utils\\validation.py:605: FutureWarning: is_sparse is deprecated and will be removed in a future version. Check `isinstance(dtype, pd.SparseDtype)` instead.\n",
      "  if is_sparse(pd_dtype):\n",
      "C:\\Users\\BiSBII\\anaconda3\\envs\\multiomics\\Lib\\site-packages\\sklearn\\utils\\validation.py:614: FutureWarning: is_sparse is deprecated and will be removed in a future version. Check `isinstance(dtype, pd.SparseDtype)` instead.\n",
      "  if is_sparse(pd_dtype) or not is_extension_array_dtype(pd_dtype):\n",
      "C:\\Users\\BiSBII\\anaconda3\\envs\\multiomics\\Lib\\site-packages\\sklearn\\utils\\validation.py:767: FutureWarning: is_sparse is deprecated and will be removed in a future version. Check `isinstance(dtype, pd.SparseDtype)` instead.\n",
      "  if not hasattr(array, \"sparse\") and array.dtypes.apply(is_sparse).any():\n",
      "C:\\Users\\BiSBII\\anaconda3\\envs\\multiomics\\Lib\\site-packages\\sklearn\\utils\\validation.py:605: FutureWarning: is_sparse is deprecated and will be removed in a future version. Check `isinstance(dtype, pd.SparseDtype)` instead.\n",
      "  if is_sparse(pd_dtype):\n",
      "C:\\Users\\BiSBII\\anaconda3\\envs\\multiomics\\Lib\\site-packages\\sklearn\\utils\\validation.py:614: FutureWarning: is_sparse is deprecated and will be removed in a future version. Check `isinstance(dtype, pd.SparseDtype)` instead.\n",
      "  if is_sparse(pd_dtype) or not is_extension_array_dtype(pd_dtype):\n",
      "C:\\Users\\BiSBII\\anaconda3\\envs\\multiomics\\Lib\\site-packages\\sklearn\\utils\\validation.py:767: FutureWarning: is_sparse is deprecated and will be removed in a future version. Check `isinstance(dtype, pd.SparseDtype)` instead.\n",
      "  if not hasattr(array, \"sparse\") and array.dtypes.apply(is_sparse).any():\n",
      "C:\\Users\\BiSBII\\anaconda3\\envs\\multiomics\\Lib\\site-packages\\sklearn\\utils\\validation.py:605: FutureWarning: is_sparse is deprecated and will be removed in a future version. Check `isinstance(dtype, pd.SparseDtype)` instead.\n",
      "  if is_sparse(pd_dtype):\n",
      "C:\\Users\\BiSBII\\anaconda3\\envs\\multiomics\\Lib\\site-packages\\sklearn\\utils\\validation.py:614: FutureWarning: is_sparse is deprecated and will be removed in a future version. Check `isinstance(dtype, pd.SparseDtype)` instead.\n",
      "  if is_sparse(pd_dtype) or not is_extension_array_dtype(pd_dtype):\n"
     ]
    },
    {
     "name": "stdout",
     "output_type": "stream",
     "text": [
      "2\n",
      "3\n"
     ]
    },
    {
     "name": "stderr",
     "output_type": "stream",
     "text": [
      "C:\\Users\\BiSBII\\anaconda3\\envs\\multiomics\\Lib\\site-packages\\sklearn\\utils\\validation.py:767: FutureWarning: is_sparse is deprecated and will be removed in a future version. Check `isinstance(dtype, pd.SparseDtype)` instead.\n",
      "  if not hasattr(array, \"sparse\") and array.dtypes.apply(is_sparse).any():\n",
      "C:\\Users\\BiSBII\\anaconda3\\envs\\multiomics\\Lib\\site-packages\\sklearn\\utils\\validation.py:605: FutureWarning: is_sparse is deprecated and will be removed in a future version. Check `isinstance(dtype, pd.SparseDtype)` instead.\n",
      "  if is_sparse(pd_dtype):\n",
      "C:\\Users\\BiSBII\\anaconda3\\envs\\multiomics\\Lib\\site-packages\\sklearn\\utils\\validation.py:614: FutureWarning: is_sparse is deprecated and will be removed in a future version. Check `isinstance(dtype, pd.SparseDtype)` instead.\n",
      "  if is_sparse(pd_dtype) or not is_extension_array_dtype(pd_dtype):\n",
      "C:\\Users\\BiSBII\\anaconda3\\envs\\multiomics\\Lib\\site-packages\\sklearn\\utils\\validation.py:767: FutureWarning: is_sparse is deprecated and will be removed in a future version. Check `isinstance(dtype, pd.SparseDtype)` instead.\n",
      "  if not hasattr(array, \"sparse\") and array.dtypes.apply(is_sparse).any():\n",
      "C:\\Users\\BiSBII\\anaconda3\\envs\\multiomics\\Lib\\site-packages\\sklearn\\utils\\validation.py:605: FutureWarning: is_sparse is deprecated and will be removed in a future version. Check `isinstance(dtype, pd.SparseDtype)` instead.\n",
      "  if is_sparse(pd_dtype):\n",
      "C:\\Users\\BiSBII\\anaconda3\\envs\\multiomics\\Lib\\site-packages\\sklearn\\utils\\validation.py:614: FutureWarning: is_sparse is deprecated and will be removed in a future version. Check `isinstance(dtype, pd.SparseDtype)` instead.\n",
      "  if is_sparse(pd_dtype) or not is_extension_array_dtype(pd_dtype):\n",
      "C:\\Users\\BiSBII\\anaconda3\\envs\\multiomics\\Lib\\site-packages\\sklearn\\utils\\validation.py:767: FutureWarning: is_sparse is deprecated and will be removed in a future version. Check `isinstance(dtype, pd.SparseDtype)` instead.\n",
      "  if not hasattr(array, \"sparse\") and array.dtypes.apply(is_sparse).any():\n",
      "C:\\Users\\BiSBII\\anaconda3\\envs\\multiomics\\Lib\\site-packages\\sklearn\\utils\\validation.py:605: FutureWarning: is_sparse is deprecated and will be removed in a future version. Check `isinstance(dtype, pd.SparseDtype)` instead.\n",
      "  if is_sparse(pd_dtype):\n",
      "C:\\Users\\BiSBII\\anaconda3\\envs\\multiomics\\Lib\\site-packages\\sklearn\\utils\\validation.py:614: FutureWarning: is_sparse is deprecated and will be removed in a future version. Check `isinstance(dtype, pd.SparseDtype)` instead.\n",
      "  if is_sparse(pd_dtype) or not is_extension_array_dtype(pd_dtype):\n",
      "C:\\Users\\BiSBII\\anaconda3\\envs\\multiomics\\Lib\\site-packages\\sklearn\\utils\\validation.py:767: FutureWarning: is_sparse is deprecated and will be removed in a future version. Check `isinstance(dtype, pd.SparseDtype)` instead.\n",
      "  if not hasattr(array, \"sparse\") and array.dtypes.apply(is_sparse).any():\n",
      "C:\\Users\\BiSBII\\anaconda3\\envs\\multiomics\\Lib\\site-packages\\sklearn\\utils\\validation.py:605: FutureWarning: is_sparse is deprecated and will be removed in a future version. Check `isinstance(dtype, pd.SparseDtype)` instead.\n",
      "  if is_sparse(pd_dtype):\n",
      "C:\\Users\\BiSBII\\anaconda3\\envs\\multiomics\\Lib\\site-packages\\sklearn\\utils\\validation.py:614: FutureWarning: is_sparse is deprecated and will be removed in a future version. Check `isinstance(dtype, pd.SparseDtype)` instead.\n",
      "  if is_sparse(pd_dtype) or not is_extension_array_dtype(pd_dtype):\n",
      "C:\\Users\\BiSBII\\anaconda3\\envs\\multiomics\\Lib\\site-packages\\sklearn\\utils\\validation.py:767: FutureWarning: is_sparse is deprecated and will be removed in a future version. Check `isinstance(dtype, pd.SparseDtype)` instead.\n",
      "  if not hasattr(array, \"sparse\") and array.dtypes.apply(is_sparse).any():\n",
      "C:\\Users\\BiSBII\\anaconda3\\envs\\multiomics\\Lib\\site-packages\\sklearn\\utils\\validation.py:605: FutureWarning: is_sparse is deprecated and will be removed in a future version. Check `isinstance(dtype, pd.SparseDtype)` instead.\n",
      "  if is_sparse(pd_dtype):\n",
      "C:\\Users\\BiSBII\\anaconda3\\envs\\multiomics\\Lib\\site-packages\\sklearn\\utils\\validation.py:614: FutureWarning: is_sparse is deprecated and will be removed in a future version. Check `isinstance(dtype, pd.SparseDtype)` instead.\n",
      "  if is_sparse(pd_dtype) or not is_extension_array_dtype(pd_dtype):\n",
      "C:\\Users\\BiSBII\\anaconda3\\envs\\multiomics\\Lib\\site-packages\\sklearn\\utils\\validation.py:767: FutureWarning: is_sparse is deprecated and will be removed in a future version. Check `isinstance(dtype, pd.SparseDtype)` instead.\n",
      "  if not hasattr(array, \"sparse\") and array.dtypes.apply(is_sparse).any():\n",
      "C:\\Users\\BiSBII\\anaconda3\\envs\\multiomics\\Lib\\site-packages\\sklearn\\utils\\validation.py:605: FutureWarning: is_sparse is deprecated and will be removed in a future version. Check `isinstance(dtype, pd.SparseDtype)` instead.\n",
      "  if is_sparse(pd_dtype):\n",
      "C:\\Users\\BiSBII\\anaconda3\\envs\\multiomics\\Lib\\site-packages\\sklearn\\utils\\validation.py:614: FutureWarning: is_sparse is deprecated and will be removed in a future version. Check `isinstance(dtype, pd.SparseDtype)` instead.\n",
      "  if is_sparse(pd_dtype) or not is_extension_array_dtype(pd_dtype):\n",
      "C:\\Users\\BiSBII\\anaconda3\\envs\\multiomics\\Lib\\site-packages\\sklearn\\utils\\validation.py:767: FutureWarning: is_sparse is deprecated and will be removed in a future version. Check `isinstance(dtype, pd.SparseDtype)` instead.\n",
      "  if not hasattr(array, \"sparse\") and array.dtypes.apply(is_sparse).any():\n",
      "C:\\Users\\BiSBII\\anaconda3\\envs\\multiomics\\Lib\\site-packages\\sklearn\\utils\\validation.py:605: FutureWarning: is_sparse is deprecated and will be removed in a future version. Check `isinstance(dtype, pd.SparseDtype)` instead.\n",
      "  if is_sparse(pd_dtype):\n",
      "C:\\Users\\BiSBII\\anaconda3\\envs\\multiomics\\Lib\\site-packages\\sklearn\\utils\\validation.py:614: FutureWarning: is_sparse is deprecated and will be removed in a future version. Check `isinstance(dtype, pd.SparseDtype)` instead.\n",
      "  if is_sparse(pd_dtype) or not is_extension_array_dtype(pd_dtype):\n",
      "C:\\Users\\BiSBII\\anaconda3\\envs\\multiomics\\Lib\\site-packages\\sklearn\\utils\\validation.py:767: FutureWarning: is_sparse is deprecated and will be removed in a future version. Check `isinstance(dtype, pd.SparseDtype)` instead.\n",
      "  if not hasattr(array, \"sparse\") and array.dtypes.apply(is_sparse).any():\n",
      "C:\\Users\\BiSBII\\anaconda3\\envs\\multiomics\\Lib\\site-packages\\sklearn\\utils\\validation.py:605: FutureWarning: is_sparse is deprecated and will be removed in a future version. Check `isinstance(dtype, pd.SparseDtype)` instead.\n",
      "  if is_sparse(pd_dtype):\n",
      "C:\\Users\\BiSBII\\anaconda3\\envs\\multiomics\\Lib\\site-packages\\sklearn\\utils\\validation.py:614: FutureWarning: is_sparse is deprecated and will be removed in a future version. Check `isinstance(dtype, pd.SparseDtype)` instead.\n",
      "  if is_sparse(pd_dtype) or not is_extension_array_dtype(pd_dtype):\n",
      "C:\\Users\\BiSBII\\anaconda3\\envs\\multiomics\\Lib\\site-packages\\sklearn\\utils\\validation.py:767: FutureWarning: is_sparse is deprecated and will be removed in a future version. Check `isinstance(dtype, pd.SparseDtype)` instead.\n",
      "  if not hasattr(array, \"sparse\") and array.dtypes.apply(is_sparse).any():\n",
      "C:\\Users\\BiSBII\\anaconda3\\envs\\multiomics\\Lib\\site-packages\\sklearn\\utils\\validation.py:605: FutureWarning: is_sparse is deprecated and will be removed in a future version. Check `isinstance(dtype, pd.SparseDtype)` instead.\n",
      "  if is_sparse(pd_dtype):\n",
      "C:\\Users\\BiSBII\\anaconda3\\envs\\multiomics\\Lib\\site-packages\\sklearn\\utils\\validation.py:614: FutureWarning: is_sparse is deprecated and will be removed in a future version. Check `isinstance(dtype, pd.SparseDtype)` instead.\n",
      "  if is_sparse(pd_dtype) or not is_extension_array_dtype(pd_dtype):\n",
      "C:\\Users\\BiSBII\\anaconda3\\envs\\multiomics\\Lib\\site-packages\\sklearn\\utils\\validation.py:767: FutureWarning: is_sparse is deprecated and will be removed in a future version. Check `isinstance(dtype, pd.SparseDtype)` instead.\n",
      "  if not hasattr(array, \"sparse\") and array.dtypes.apply(is_sparse).any():\n",
      "C:\\Users\\BiSBII\\anaconda3\\envs\\multiomics\\Lib\\site-packages\\sklearn\\utils\\validation.py:605: FutureWarning: is_sparse is deprecated and will be removed in a future version. Check `isinstance(dtype, pd.SparseDtype)` instead.\n",
      "  if is_sparse(pd_dtype):\n",
      "C:\\Users\\BiSBII\\anaconda3\\envs\\multiomics\\Lib\\site-packages\\sklearn\\utils\\validation.py:614: FutureWarning: is_sparse is deprecated and will be removed in a future version. Check `isinstance(dtype, pd.SparseDtype)` instead.\n",
      "  if is_sparse(pd_dtype) or not is_extension_array_dtype(pd_dtype):\n",
      "C:\\Users\\BiSBII\\anaconda3\\envs\\multiomics\\Lib\\site-packages\\sklearn\\utils\\validation.py:767: FutureWarning: is_sparse is deprecated and will be removed in a future version. Check `isinstance(dtype, pd.SparseDtype)` instead.\n",
      "  if not hasattr(array, \"sparse\") and array.dtypes.apply(is_sparse).any():\n",
      "C:\\Users\\BiSBII\\anaconda3\\envs\\multiomics\\Lib\\site-packages\\sklearn\\utils\\validation.py:605: FutureWarning: is_sparse is deprecated and will be removed in a future version. Check `isinstance(dtype, pd.SparseDtype)` instead.\n",
      "  if is_sparse(pd_dtype):\n",
      "C:\\Users\\BiSBII\\anaconda3\\envs\\multiomics\\Lib\\site-packages\\sklearn\\utils\\validation.py:614: FutureWarning: is_sparse is deprecated and will be removed in a future version. Check `isinstance(dtype, pd.SparseDtype)` instead.\n",
      "  if is_sparse(pd_dtype) or not is_extension_array_dtype(pd_dtype):\n",
      "C:\\Users\\BiSBII\\anaconda3\\envs\\multiomics\\Lib\\site-packages\\sklearn\\utils\\validation.py:767: FutureWarning: is_sparse is deprecated and will be removed in a future version. Check `isinstance(dtype, pd.SparseDtype)` instead.\n",
      "  if not hasattr(array, \"sparse\") and array.dtypes.apply(is_sparse).any():\n",
      "C:\\Users\\BiSBII\\anaconda3\\envs\\multiomics\\Lib\\site-packages\\sklearn\\utils\\validation.py:605: FutureWarning: is_sparse is deprecated and will be removed in a future version. Check `isinstance(dtype, pd.SparseDtype)` instead.\n",
      "  if is_sparse(pd_dtype):\n",
      "C:\\Users\\BiSBII\\anaconda3\\envs\\multiomics\\Lib\\site-packages\\sklearn\\utils\\validation.py:614: FutureWarning: is_sparse is deprecated and will be removed in a future version. Check `isinstance(dtype, pd.SparseDtype)` instead.\n",
      "  if is_sparse(pd_dtype) or not is_extension_array_dtype(pd_dtype):\n"
     ]
    },
    {
     "name": "stdout",
     "output_type": "stream",
     "text": [
      "4\n"
     ]
    },
    {
     "name": "stderr",
     "output_type": "stream",
     "text": [
      "C:\\Users\\BiSBII\\anaconda3\\envs\\multiomics\\Lib\\site-packages\\sklearn\\utils\\validation.py:767: FutureWarning: is_sparse is deprecated and will be removed in a future version. Check `isinstance(dtype, pd.SparseDtype)` instead.\n",
      "  if not hasattr(array, \"sparse\") and array.dtypes.apply(is_sparse).any():\n",
      "C:\\Users\\BiSBII\\anaconda3\\envs\\multiomics\\Lib\\site-packages\\sklearn\\utils\\validation.py:605: FutureWarning: is_sparse is deprecated and will be removed in a future version. Check `isinstance(dtype, pd.SparseDtype)` instead.\n",
      "  if is_sparse(pd_dtype):\n",
      "C:\\Users\\BiSBII\\anaconda3\\envs\\multiomics\\Lib\\site-packages\\sklearn\\utils\\validation.py:614: FutureWarning: is_sparse is deprecated and will be removed in a future version. Check `isinstance(dtype, pd.SparseDtype)` instead.\n",
      "  if is_sparse(pd_dtype) or not is_extension_array_dtype(pd_dtype):\n",
      "C:\\Users\\BiSBII\\anaconda3\\envs\\multiomics\\Lib\\site-packages\\sklearn\\utils\\validation.py:767: FutureWarning: is_sparse is deprecated and will be removed in a future version. Check `isinstance(dtype, pd.SparseDtype)` instead.\n",
      "  if not hasattr(array, \"sparse\") and array.dtypes.apply(is_sparse).any():\n",
      "C:\\Users\\BiSBII\\anaconda3\\envs\\multiomics\\Lib\\site-packages\\sklearn\\utils\\validation.py:605: FutureWarning: is_sparse is deprecated and will be removed in a future version. Check `isinstance(dtype, pd.SparseDtype)` instead.\n",
      "  if is_sparse(pd_dtype):\n",
      "C:\\Users\\BiSBII\\anaconda3\\envs\\multiomics\\Lib\\site-packages\\sklearn\\utils\\validation.py:614: FutureWarning: is_sparse is deprecated and will be removed in a future version. Check `isinstance(dtype, pd.SparseDtype)` instead.\n",
      "  if is_sparse(pd_dtype) or not is_extension_array_dtype(pd_dtype):\n"
     ]
    }
   ],
   "source": [
    "for i in range(5):\n",
    "    \n",
    "    print(i)\n",
    "    \n",
    "    Xtrain_RNAseq = pd.read_csv(os.path.join('C:/Users/BiSBII/Documents/MM_ML/data', 'DIABLO_INPUT', 'XTRAIN_RNASEQ_ALL_GENES_NOREPS_SPLIT_'+ str(i) +'.csv'), index_col=0)\n",
    "    \n",
    "    Xtrain_mets = data_mets_noreps.loc[Xtrain_RNAseq.index, :]\n",
    "    \n",
    "    Xtest_RNAseq = pd.read_csv(os.path.join('C:/Users/BiSBII/Documents/MM_ML/data', 'DIABLO_INPUT', 'XTEST_RNASEQ_ALL_GENES_NOREPS_SPLIT_'+ str(i) +'.csv'), index_col=0)\n",
    "    \n",
    "    Xtest_mets = data_mets_noreps.loc[Xtest_RNAseq.index, :]\n",
    "    \n",
    "    vt = VarianceThreshold(0).fit(Xtrain_mets)\n",
    "    X_train_filtered = vt.transform(Xtrain_mets)\n",
    "    X_test_filtered = vt.transform(Xtest_mets)\n",
    "    cols_inds_vt = vt.get_support(indices=True)\n",
    "    X_train_filtered_df = pd.DataFrame(X_train_filtered, index=Xtrain_mets.index, columns=Xtrain_mets.columns[cols_inds_vt])\n",
    "    X_test_filtered_df = pd.DataFrame(X_test_filtered, index=Xtest_mets.index, columns=Xtest_mets.columns[cols_inds_vt])\n",
    "    \n",
    "    scaler_model = StandardScaler().fit(X_train_filtered_df)\n",
    "    X_train_scaled = scaler_model.transform(X_train_filtered_df)\n",
    "    X_test_scaled = scaler_model.transform(X_test_filtered_df)\n",
    "    \n",
    "    X_train_scaled_df = pd.DataFrame(X_train_scaled, columns=X_train_filtered_df.columns, index=X_train_filtered_df.index)\n",
    "    X_test_scaled_df = pd.DataFrame(X_test_scaled, columns=X_test_filtered_df.columns, index=X_test_filtered_df.index)\n",
    "    \n",
    "    X_train_scaled_df.to_csv(os.path.join('C:/Users/BiSBII/Documents/MM_ML/data', 'DIABLO_INPUT', 'XTRAIN_METABOLOMICS_NOREPS_VT_SPLIT_'+ str(i) +'.csv'))\n",
    "    X_test_scaled_df.to_csv(os.path.join('C:/Users/BiSBII/Documents/MM_ML/data', 'DIABLO_INPUT', 'XTEST_METABOLOMICS_NOREPS_VT_SPLIT_'+ str(i) +'.csv'))"
   ],
   "metadata": {
    "collapsed": false,
    "ExecuteTime": {
     "end_time": "2024-03-10T19:17:01.104900900Z",
     "start_time": "2024-03-10T19:17:00.534638700Z"
    }
   },
   "id": "6ffe1976aca7cec2"
  },
  {
   "cell_type": "markdown",
   "source": [
    "# apply ML"
   ],
   "metadata": {
    "collapsed": false
   },
   "id": "962c6d0a4b264a04"
  },
  {
   "cell_type": "code",
   "execution_count": 21,
   "outputs": [],
   "source": [
    "y_train_df = pd.read_csv(os.path.join('C:/Users/BiSBII/Documents/MM_ML/data', 'DIABLO_INPUT', 'yTRAIN_MODEL_500_GENES_NOREPS.csv'), index_col=0)\n",
    "y_train = y_train_df['state']"
   ],
   "metadata": {
    "collapsed": false,
    "ExecuteTime": {
     "end_time": "2023-11-23T11:25:27.132464900Z",
     "start_time": "2023-11-23T11:25:27.038690100Z"
    }
   },
   "id": "b99797674ef25134"
  },
  {
   "cell_type": "code",
   "execution_count": 22,
   "outputs": [],
   "source": [
    "y_test_df = pd.read_csv(os.path.join('C:/Users/BiSBII/Documents/MM_ML/data', 'DIABLO_INPUT', 'yTEST_MODEL_500_GENES_NOREPS.csv'), index_col=0)\n",
    "y_test = y_test_df['state']"
   ],
   "metadata": {
    "collapsed": false,
    "ExecuteTime": {
     "end_time": "2023-11-23T11:25:28.157273500Z",
     "start_time": "2023-11-23T11:25:28.063002700Z"
    }
   },
   "id": "5748843472df151a"
  },
  {
   "cell_type": "code",
   "execution_count": 25,
   "outputs": [],
   "source": [
    "from sklearn.linear_model import LogisticRegression\n",
    "from sklearn.metrics import precision_score, recall_score, accuracy_score, ConfusionMatrixDisplay\n",
    "from sklearn import svm\n",
    "from sklearn.ensemble import RandomForestClassifier"
   ],
   "metadata": {
    "collapsed": false,
    "ExecuteTime": {
     "end_time": "2023-11-23T11:26:13.890286800Z",
     "start_time": "2023-11-23T11:26:13.766298200Z"
    }
   },
   "id": "2b296ab66759bb5d"
  },
  {
   "cell_type": "code",
   "execution_count": 80,
   "outputs": [
    {
     "name": "stdout",
     "output_type": "stream",
     "text": [
      "Precision: 0.94\n",
      "Recall: 0.93\n",
      "Accuracy: 0.93\n"
     ]
    }
   ],
   "source": [
    "clf = LogisticRegression(random_state=0).fit(X_train_scaled_df, y_train)\n",
    "y_pred = clf.predict(X_test_scaled_df)\n",
    "\n",
    "print('Precision: %0.2f' % precision_score(y_test, y_pred, average='weighted'))\n",
    "print('Recall: %0.2f' % recall_score(y_test, y_pred, average='weighted'))\n",
    "print('Accuracy: %0.2f' % accuracy_score(y_test, y_pred))"
   ],
   "metadata": {
    "collapsed": false,
    "ExecuteTime": {
     "end_time": "2023-11-23T11:44:24.400335700Z",
     "start_time": "2023-11-23T11:44:24.284122Z"
    }
   },
   "id": "ddd9f89d04542635"
  },
  {
   "cell_type": "code",
   "execution_count": 81,
   "outputs": [
    {
     "data": {
      "text/plain": "<Figure size 640x480 with 2 Axes>",
      "image/png": "[encoded data removed]"
     },
     "metadata": {},
     "output_type": "display_data"
    }
   ],
   "source": [
    "cm_lr = ConfusionMatrixDisplay.from_predictions(y_test, y_pred, display_labels=clf.classes_, cmap='Blues')"
   ],
   "metadata": {
    "collapsed": false,
    "ExecuteTime": {
     "end_time": "2023-11-23T11:44:26.133703800Z",
     "start_time": "2023-11-23T11:44:25.895049900Z"
    }
   },
   "id": "ad3d5dd00f6740d1"
  },
  {
   "cell_type": "code",
   "execution_count": 82,
   "outputs": [
    {
     "data": {
      "text/plain": "                                 coef  mean_coef\nMetabolite Name                                 \nUDP-glucuronic acid          0.228326   0.228326\nmalic acid                  -0.213346   0.213346\nmalvidin-3-O-glucoside       0.206396   0.206396\ncyanidin 3-glucoside         0.195955   0.195955\npetunidin                    0.187563   0.187563\n...                               ...        ...\npyruvic acid                 0.000736   0.000736\nL-arginine                   0.000000   0.000000\nprocyanidin B2               0.000000   0.000000\ndelphinidin 3,5-diglucoside  0.000000   0.000000\ncaffeic acid                 0.000000   0.000000\n\n[212 rows x 2 columns]",
      "text/html": "<div>\n<style scoped>\n    .dataframe tbody tr th:only-of-type {\n        vertical-align: middle;\n    }\n\n    .dataframe tbody tr th {\n        vertical-align: top;\n    }\n\n    .dataframe thead th {\n        text-align: right;\n    }\n</style>\n<table border=\"1\" class=\"dataframe\">\n  <thead>\n    <tr style=\"text-align: right;\">\n      <th></th>\n      <th>coef</th>\n      <th>mean_coef</th>\n    </tr>\n    <tr>\n      <th>Metabolite Name</th>\n      <th></th>\n      <th></th>\n    </tr>\n  </thead>\n  <tbody>\n    <tr>\n      <th>UDP-glucuronic acid</th>\n      <td>0.228326</td>\n      <td>0.228326</td>\n    </tr>\n    <tr>\n      <th>malic acid</th>\n      <td>-0.213346</td>\n      <td>0.213346</td>\n    </tr>\n    <tr>\n      <th>malvidin-3-O-glucoside</th>\n      <td>0.206396</td>\n      <td>0.206396</td>\n    </tr>\n    <tr>\n      <th>cyanidin 3-glucoside</th>\n      <td>0.195955</td>\n      <td>0.195955</td>\n    </tr>\n    <tr>\n      <th>petunidin</th>\n      <td>0.187563</td>\n      <td>0.187563</td>\n    </tr>\n    <tr>\n      <th>...</th>\n      <td>...</td>\n      <td>...</td>\n    </tr>\n    <tr>\n      <th>pyruvic acid</th>\n      <td>0.000736</td>\n      <td>0.000736</td>\n    </tr>\n    <tr>\n      <th>L-arginine</th>\n      <td>0.000000</td>\n      <td>0.000000</td>\n    </tr>\n    <tr>\n      <th>procyanidin B2</th>\n      <td>0.000000</td>\n      <td>0.000000</td>\n    </tr>\n    <tr>\n      <th>delphinidin 3,5-diglucoside</th>\n      <td>0.000000</td>\n      <td>0.000000</td>\n    </tr>\n    <tr>\n      <th>caffeic acid</th>\n      <td>0.000000</td>\n      <td>0.000000</td>\n    </tr>\n  </tbody>\n</table>\n<p>212 rows × 2 columns</p>\n</div>"
     },
     "execution_count": 82,
     "metadata": {},
     "output_type": "execute_result"
    }
   ],
   "source": [
    "coefs = clf.coef_\n",
    "feature_importance = pd.DataFrame(coefs.transpose(), index=X_train_scaled_df.columns, columns=['coef'])\n",
    "feature_importance['mean_coef'] = abs(feature_importance).mean(axis=1)\n",
    "feature_importance.sort_values(by=['mean_coef'], ascending=False)"
   ],
   "metadata": {
    "collapsed": false,
    "ExecuteTime": {
     "end_time": "2023-11-23T11:44:27.825163Z",
     "start_time": "2023-11-23T11:44:27.717620600Z"
    }
   },
   "id": "86668007f89461d0"
  },
  {
   "cell_type": "code",
   "execution_count": 77,
   "outputs": [
    {
     "name": "stdout",
     "output_type": "stream",
     "text": [
      "PECC (Accuracy): 0.80\n",
      "Precision: 0.81\n",
      "Recall: 0.80\n",
      "Accuracy: 0.80\n"
     ]
    }
   ],
   "source": [
    "svm_model = svm.SVC(kernel = \"linear\")\n",
    "svm_model.fit(X_train_scaled_df, y_train)\n",
    "\n",
    "svm_y_pred = svm_model.predict(X_test_scaled_df)\n",
    "\n",
    "print('PECC (Accuracy): %0.2f' % svm_model.score(X_test_scaled_df, y_test))\n",
    "\n",
    "print('Precision: %0.2f' % precision_score(y_test, svm_y_pred, average='weighted'))\n",
    "print('Recall: %0.2f' % recall_score(y_test, svm_y_pred, average='weighted'))\n",
    "print('Accuracy: %0.2f' % accuracy_score(y_test, svm_y_pred))"
   ],
   "metadata": {
    "collapsed": false,
    "ExecuteTime": {
     "end_time": "2023-11-23T11:38:58.945590800Z",
     "start_time": "2023-11-23T11:38:58.836256300Z"
    }
   },
   "id": "ae25b6d97eceb0f7"
  },
  {
   "cell_type": "code",
   "execution_count": 35,
   "outputs": [
    {
     "data": {
      "text/plain": "<Figure size 640x480 with 2 Axes>",
      "image/png": "[encoded data removed]"
     },
     "metadata": {},
     "output_type": "display_data"
    }
   ],
   "source": [
    "svm_cm = ConfusionMatrixDisplay.from_predictions(y_test, svm_y_pred, display_labels=svm_model.classes_, cmap='Blues')"
   ],
   "metadata": {
    "collapsed": false,
    "ExecuteTime": {
     "end_time": "2023-11-23T11:28:00.382614800Z",
     "start_time": "2023-11-23T11:28:00.152473900Z"
    }
   },
   "id": "3bf0fa5b9fdb1890"
  },
  {
   "cell_type": "code",
   "execution_count": 38,
   "outputs": [
    {
     "data": {
      "text/plain": "                                 coef  mean_coef\nMetabolite Name                                 \nL-aspartic acid             -0.084310   0.084310\nresveratrol                  0.083227   0.083227\ncyanidin 3-glucoside         0.071894   0.071894\npeonidin-3-glucoside         0.070541   0.070541\nmalvidin-3-O-glucoside       0.068197   0.068197\n...                               ...        ...\nmontanic acid                0.000078   0.000078\nL-arginine                   0.000000   0.000000\nprocyanidin B2               0.000000   0.000000\ndelphinidin 3,5-diglucoside  0.000000   0.000000\ncaffeic acid                 0.000000   0.000000\n\n[212 rows x 2 columns]",
      "text/html": "<div>\n<style scoped>\n    .dataframe tbody tr th:only-of-type {\n        vertical-align: middle;\n    }\n\n    .dataframe tbody tr th {\n        vertical-align: top;\n    }\n\n    .dataframe thead th {\n        text-align: right;\n    }\n</style>\n<table border=\"1\" class=\"dataframe\">\n  <thead>\n    <tr style=\"text-align: right;\">\n      <th></th>\n      <th>coef</th>\n      <th>mean_coef</th>\n    </tr>\n    <tr>\n      <th>Metabolite Name</th>\n      <th></th>\n      <th></th>\n    </tr>\n  </thead>\n  <tbody>\n    <tr>\n      <th>L-aspartic acid</th>\n      <td>-0.084310</td>\n      <td>0.084310</td>\n    </tr>\n    <tr>\n      <th>resveratrol</th>\n      <td>0.083227</td>\n      <td>0.083227</td>\n    </tr>\n    <tr>\n      <th>cyanidin 3-glucoside</th>\n      <td>0.071894</td>\n      <td>0.071894</td>\n    </tr>\n    <tr>\n      <th>peonidin-3-glucoside</th>\n      <td>0.070541</td>\n      <td>0.070541</td>\n    </tr>\n    <tr>\n      <th>malvidin-3-O-glucoside</th>\n      <td>0.068197</td>\n      <td>0.068197</td>\n    </tr>\n    <tr>\n      <th>...</th>\n      <td>...</td>\n      <td>...</td>\n    </tr>\n    <tr>\n      <th>montanic acid</th>\n      <td>0.000078</td>\n      <td>0.000078</td>\n    </tr>\n    <tr>\n      <th>L-arginine</th>\n      <td>0.000000</td>\n      <td>0.000000</td>\n    </tr>\n    <tr>\n      <th>procyanidin B2</th>\n      <td>0.000000</td>\n      <td>0.000000</td>\n    </tr>\n    <tr>\n      <th>delphinidin 3,5-diglucoside</th>\n      <td>0.000000</td>\n      <td>0.000000</td>\n    </tr>\n    <tr>\n      <th>caffeic acid</th>\n      <td>0.000000</td>\n      <td>0.000000</td>\n    </tr>\n  </tbody>\n</table>\n<p>212 rows × 2 columns</p>\n</div>"
     },
     "execution_count": 38,
     "metadata": {},
     "output_type": "execute_result"
    }
   ],
   "source": [
    "coefs = svm_model.coef_\n",
    "feature_importance = pd.DataFrame(coefs.transpose(), index=X_train_scaled_df.columns, columns=['coef'])\n",
    "feature_importance['mean_coef'] = abs(feature_importance).mean(axis=1)\n",
    "feature_importance.sort_values(by=['mean_coef'], ascending=False)"
   ],
   "metadata": {
    "collapsed": false,
    "ExecuteTime": {
     "end_time": "2023-11-23T11:28:42.713489900Z",
     "start_time": "2023-11-23T11:28:42.607982100Z"
    }
   },
   "id": "a3f3fd063c69c408"
  },
  {
   "cell_type": "code",
   "execution_count": 70,
   "outputs": [
    {
     "name": "stdout",
     "output_type": "stream",
     "text": [
      "Precision: 0.94\n",
      "Recall: 0.93\n",
      "Accuracy: 0.93\n"
     ]
    }
   ],
   "source": [
    "rf_model = RandomForestClassifier(n_estimators=100)\n",
    "rf_model.fit(X_train_scaled_df, y_train)\n",
    "\n",
    "rf_y_pred = rf_model.predict(X_test_scaled_df)\n",
    "\n",
    "print('Precision: %0.2f' % precision_score(y_test, rf_y_pred, average='weighted'))\n",
    "print('Recall: %0.2f' % recall_score(y_test, rf_y_pred, average='weighted'))\n",
    "print('Accuracy: %0.2f' % accuracy_score(y_test, rf_y_pred))"
   ],
   "metadata": {
    "collapsed": false,
    "ExecuteTime": {
     "end_time": "2023-11-23T11:37:54.619399800Z",
     "start_time": "2023-11-23T11:37:54.393401Z"
    }
   },
   "id": "bcac4e61456551b6"
  },
  {
   "cell_type": "code",
   "execution_count": 78,
   "outputs": [
    {
     "data": {
      "text/plain": "<Figure size 640x480 with 2 Axes>",
      "image/png": "[encoded data removed]"
     },
     "metadata": {},
     "output_type": "display_data"
    }
   ],
   "source": [
    "rf_cm = ConfusionMatrixDisplay.from_predictions(y_test, rf_y_pred, display_labels=rf_model.classes_, cmap='Blues')"
   ],
   "metadata": {
    "collapsed": false,
    "ExecuteTime": {
     "end_time": "2023-11-23T11:39:34.982299100Z",
     "start_time": "2023-11-23T11:39:34.740340900Z"
    }
   },
   "id": "fd6e4d11da89b1ba"
  },
  {
   "cell_type": "code",
   "execution_count": 71,
   "outputs": [
    {
     "data": {
      "text/plain": "                      importance\nMetabolite Name                 \nsucrose                 0.092959\nglucose                 0.063307\npetunidin               0.055667\nmyricetin               0.047974\nfructose                0.042966\n...                          ...\nbutyraldehyde           0.000000\nbutane-2,3-diol NIST    0.000000\nphenylethanol NIST      0.000000\nbeta-alanine            0.000000\ntyrosine                0.000000\n\n[212 rows x 1 columns]",
      "text/html": "<div>\n<style scoped>\n    .dataframe tbody tr th:only-of-type {\n        vertical-align: middle;\n    }\n\n    .dataframe tbody tr th {\n        vertical-align: top;\n    }\n\n    .dataframe thead th {\n        text-align: right;\n    }\n</style>\n<table border=\"1\" class=\"dataframe\">\n  <thead>\n    <tr style=\"text-align: right;\">\n      <th></th>\n      <th>importance</th>\n    </tr>\n    <tr>\n      <th>Metabolite Name</th>\n      <th></th>\n    </tr>\n  </thead>\n  <tbody>\n    <tr>\n      <th>sucrose</th>\n      <td>0.092959</td>\n    </tr>\n    <tr>\n      <th>glucose</th>\n      <td>0.063307</td>\n    </tr>\n    <tr>\n      <th>petunidin</th>\n      <td>0.055667</td>\n    </tr>\n    <tr>\n      <th>myricetin</th>\n      <td>0.047974</td>\n    </tr>\n    <tr>\n      <th>fructose</th>\n      <td>0.042966</td>\n    </tr>\n    <tr>\n      <th>...</th>\n      <td>...</td>\n    </tr>\n    <tr>\n      <th>butyraldehyde</th>\n      <td>0.000000</td>\n    </tr>\n    <tr>\n      <th>butane-2,3-diol NIST</th>\n      <td>0.000000</td>\n    </tr>\n    <tr>\n      <th>phenylethanol NIST</th>\n      <td>0.000000</td>\n    </tr>\n    <tr>\n      <th>beta-alanine</th>\n      <td>0.000000</td>\n    </tr>\n    <tr>\n      <th>tyrosine</th>\n      <td>0.000000</td>\n    </tr>\n  </tbody>\n</table>\n<p>212 rows × 1 columns</p>\n</div>"
     },
     "execution_count": 71,
     "metadata": {},
     "output_type": "execute_result"
    }
   ],
   "source": [
    "importances = rf_model.feature_importances_\n",
    "importances_df = pd.DataFrame(importances, columns=['importance'], index=X_train_scaled_df.columns)\n",
    "importances_df.sort_values(by=['importance'], ascending=False)"
   ],
   "metadata": {
    "collapsed": false,
    "ExecuteTime": {
     "end_time": "2023-11-23T11:37:56.811660400Z",
     "start_time": "2023-11-23T11:37:56.699777400Z"
    }
   },
   "id": "6de33c61a4b6429c"
  }
 ],
 "metadata": {
  "kernelspec": {
   "display_name": "Python 3",
   "language": "python",
   "name": "python3"
  },
  "language_info": {
   "codemirror_mode": {
    "name": "ipython",
    "version": 2
   },
   "file_extension": ".py",
   "mimetype": "text/x-python",
   "name": "python",
   "nbconvert_exporter": "python",
   "pygments_lexer": "ipython2",
   "version": "2.7.6"
  }
 },
 "nbformat": 4,
 "nbformat_minor": 5
}
