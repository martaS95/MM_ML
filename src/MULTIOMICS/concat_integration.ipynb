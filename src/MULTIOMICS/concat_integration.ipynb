{
 "cells": [
  {
   "cell_type": "code",
   "execution_count": 85,
   "id": "initial_id",
   "metadata": {
    "collapsed": true,
    "ExecuteTime": {
     "end_time": "2023-12-04T10:20:13.558733800Z",
     "start_time": "2023-12-04T10:20:13.550112Z"
    }
   },
   "outputs": [],
   "source": [
    "import os\n",
    "import pandas as pd\n",
    "import seaborn as sns\n",
    "import matplotlib.pyplot as plt\n",
    "import numpy as np\n",
    "from sklearn.feature_selection import VarianceThreshold, SelectKBest, f_classif\n",
    "from sklearn.preprocessing import StandardScaler\n",
    "from sklearn.model_selection import train_test_split\n",
    "from sklearn.model_selection import cross_val_score, LeaveOneOut, cross_validate\n",
    "from sklearn.linear_model import LogisticRegression\n",
    "from sklearn.metrics import precision_score, recall_score, accuracy_score, ConfusionMatrixDisplay\n",
    "from sklearn import svm\n",
    "from sklearn import tree\n",
    "from sklearn.ensemble import RandomForestClassifier"
   ]
  },
  {
   "cell_type": "code",
   "execution_count": 2,
   "outputs": [],
   "source": [
    "data_source = 'C:/Users/BiSBII/Documents/MM_ML/data/'"
   ],
   "metadata": {
    "collapsed": false,
    "ExecuteTime": {
     "end_time": "2023-11-30T16:05:30.893945300Z",
     "start_time": "2023-11-30T16:05:30.886210300Z"
    }
   },
   "id": "ba2087fa66526a98"
  },
  {
   "cell_type": "code",
   "execution_count": 8,
   "outputs": [
    {
     "data": {
      "text/plain": "(73, 6018)"
     },
     "execution_count": 8,
     "metadata": {},
     "output_type": "execute_result"
    }
   ],
   "source": [
    "rnaseq = pd.read_csv(os.path.join(data_source, 'GREAT_LOG_TPM_GSE98923_MODEL_GENES_NOREPS.csv'), index_col=0)\n",
    "rnaseq = rnaseq.transpose()\n",
    "rnaseq.shape"
   ],
   "metadata": {
    "collapsed": false,
    "ExecuteTime": {
     "end_time": "2023-11-30T16:22:09.855643400Z",
     "start_time": "2023-11-30T16:22:09.763810100Z"
    }
   },
   "id": "22ee586334dede46"
  },
  {
   "cell_type": "code",
   "execution_count": 20,
   "outputs": [
    {
     "data": {
      "text/plain": "CS_time0_2012      green\nCS_time1_2012      green\nCS_time2_2012      green\nCS_time3_2012      green\nCS_time4_2012      green\n                   ...  \nPN_time7_2014     mature\nPN_time8_2014     mature\nPN_time9_2014     mature\nPN_time10_2014    mature\nPN_time11_2014    mature\nName: state, Length: 73, dtype: object"
     },
     "execution_count": 20,
     "metadata": {},
     "output_type": "execute_result"
    }
   ],
   "source": [
    "metadata = pd.read_excel(os.path.join(data_source, 'GSE98923_metadata.xlsx'), index_col=0, sheet_name='NO_REPLICATES')\n",
    "y_state = metadata['state'][rnaseq.index]\n",
    "y_state"
   ],
   "metadata": {
    "collapsed": false,
    "ExecuteTime": {
     "end_time": "2023-11-30T16:34:20.333343500Z",
     "start_time": "2023-11-30T16:34:20.305193400Z"
    }
   },
   "id": "198f51d95479cb6c"
  },
  {
   "cell_type": "code",
   "execution_count": 21,
   "outputs": [
    {
     "data": {
      "text/plain": "(212, 219)"
     },
     "execution_count": 21,
     "metadata": {},
     "output_type": "execute_result"
    }
   ],
   "source": [
    "data_mets = pd.read_excel(os.path.join(data_source, 'metabolomics.xlsx'), index_col=0, header=1)\n",
    "data_mets = data_mets.loc[:, data_mets.columns != 'Method']\n",
    "data_mets.shape"
   ],
   "metadata": {
    "collapsed": false,
    "ExecuteTime": {
     "end_time": "2023-11-30T16:34:29.163788400Z",
     "start_time": "2023-11-30T16:34:28.739009400Z"
    }
   },
   "id": "1f364ef0918ba011"
  },
  {
   "cell_type": "code",
   "execution_count": 22,
   "outputs": [],
   "source": [
    "data_mets = data_mets.transpose()"
   ],
   "metadata": {
    "collapsed": false,
    "ExecuteTime": {
     "end_time": "2023-11-30T16:34:30.600892500Z",
     "start_time": "2023-11-30T16:34:30.592524600Z"
    }
   },
   "id": "a9302f9dd3c5002f"
  },
  {
   "cell_type": "code",
   "execution_count": 23,
   "outputs": [],
   "source": [
    "metadata_mets_conv = pd.read_excel(os.path.join(data_source, 'metabolomics_metadata.xlsx'), sheet_name='CONVERSION', index_col=0)"
   ],
   "metadata": {
    "collapsed": false,
    "ExecuteTime": {
     "end_time": "2023-11-30T16:34:35.003294400Z",
     "start_time": "2023-11-30T16:34:34.967869300Z"
    }
   },
   "id": "fc7117286edce1b2"
  },
  {
   "cell_type": "code",
   "execution_count": 24,
   "outputs": [
    {
     "data": {
      "text/plain": "Metabolite Name    xylose  xylonic acid  vanillic acid    valine      urea  \\\ngroups                                                                       \nCS_time0_2012    3.731010      0.286863       0.117069  1.730116  1.216265   \nCS_time0_2013    3.248436      0.571939       0.219839  0.758713  1.244861   \nCS_time0_2014    2.293119      0.529937       0.495085  1.361930  1.078642   \nCS_time10_2012   1.701519      0.908847       0.124218  6.172475  1.798034   \nCS_time10_2013   1.420912      0.709562       0.271671  2.251117  0.851653   \n...                   ...           ...            ...       ...       ...   \nPN_time8_2013    1.707775      0.602324       0.257373  4.428061  3.485255   \nPN_time8_2014    3.496872      0.741734       0.422699  2.621984  0.950849   \nPN_time9_2012    2.193923      0.753351       0.097408  5.401251  1.716711   \nPN_time9_2013    1.422699      0.685433       0.205541  4.406613  1.781948   \nPN_time9_2014    3.286863      0.731010       0.439678  5.446828  1.524576   \n\nMetabolite Name    uracil  UDP-glucuronic acid   tyrosol   tyrosine  \\\ngroups                                                                \nCS_time0_2012    0.086685             0.650581  0.110813   1.387846   \nCS_time0_2013    0.202860             1.277033  0.256479   1.069705   \nCS_time0_2014    0.563003             1.026810  0.618409   0.858803   \nCS_time10_2012   0.141197             1.705094  0.134942  56.835567   \nCS_time10_2013   0.204647             1.277033  0.285970   1.787310   \n...                   ...                  ...       ...        ...   \nPN_time8_2013    0.255585             1.798928  0.223414   2.071492   \nPN_time8_2014    0.455764             1.350313  0.547811   2.064343   \nPN_time9_2012    0.186774             2.283289  0.115282   1.880250   \nPN_time9_2013    0.229669             1.989276  0.245755   2.711349   \nPN_time9_2014    0.343164             1.332440  0.459339   1.317248   \n\nMetabolite Name  tryptophan  ...      proline  quercetin-3-glucoside  \\\ngroups                       ...                                       \nCS_time0_2012      4.603217  ...    98.838524               0.923180   \nCS_time0_2013      1.967828  ...  1040.845728              12.307100   \nCS_time0_2014      1.293119  ...   138.256017               6.642696   \nCS_time10_2012     0.456658  ...   210.242434              21.346971   \nCS_time10_2013     0.618409  ...  5721.521059             131.340072   \n...                     ...  ...          ...                    ...   \nPN_time8_2013      1.488829  ...  2433.909025             114.427437   \nPN_time8_2014      1.639857  ...   948.846056              34.157383   \nPN_time9_2012      1.210009  ...    88.710237              13.866339   \nPN_time9_2013      1.933870  ...  2743.561011              61.710710   \nPN_time9_2014      0.827525  ...  1272.529914              73.343157   \n\nMetabolite Name  quercetin-3-glucuronide  resveratrol  \\\ngroups                                                  \nCS_time0_2012                  20.703345     0.000318   \nCS_time0_2013                  77.785800     1.187485   \nCS_time0_2014                  60.868062     1.184399   \nCS_time10_2012                 14.397728     0.000000   \nCS_time10_2013                 67.179783     4.141035   \n...                                  ...          ...   \nPN_time8_2013                 113.285199   229.844525   \nPN_time8_2014                  41.083211    65.457904   \nPN_time9_2012                  27.864049     1.297096   \nPN_time9_2013                  72.058724   130.660891   \nPN_time9_2014                  72.336575   142.974555   \n\nMetabolite Name  resveratrol dimer (pallidol or viniferin)  spirotetramat  \\\ngroups                                                                      \nCS_time0_2012                                     0.000000      10.575021   \nCS_time0_2013                                     0.000000      38.528039   \nCS_time0_2014                                     0.262894       0.000000   \nCS_time10_2012                                    0.000000       4.236117   \nCS_time10_2013                                    0.000000       4.742720   \n...                                                    ...            ...   \nPN_time8_2013                                     5.813718       2.628640   \nPN_time8_2014                                     3.085765       0.000000   \nPN_time9_2012                                     4.812534       2.476580   \nPN_time9_2013                                    10.473646       3.248135   \nPN_time9_2014                                     4.695353       0.000000   \n\nMetabolite Name  splitomicin   taxifolin  tributyl phosphate  tyrosine  \ngroups                                                                  \nCS_time0_2012       0.000000    0.000000           75.369803  0.140542  \nCS_time0_2013       0.000000    0.029844            0.000000  0.000000  \nCS_time0_2014       0.000000    0.880047            0.000000  0.000000  \nCS_time10_2012      0.000000    0.000000           68.386685  0.087802  \nCS_time10_2013      0.000000    6.002407            0.000000  0.000000  \n...                      ...         ...                 ...       ...  \nPN_time8_2013       0.000000  137.692419            0.000000  0.000000  \nPN_time8_2014       0.000000   63.440024            0.000000  0.000000  \nPN_time9_2012       6.371248    9.098453           14.831962  0.378103  \nPN_time9_2013       0.000000  100.708544            0.000000  0.000000  \nPN_time9_2014       0.000000   81.682680            0.000000  0.000000  \n\n[73 rows x 212 columns]",
      "text/html": "<div>\n<style scoped>\n    .dataframe tbody tr th:only-of-type {\n        vertical-align: middle;\n    }\n\n    .dataframe tbody tr th {\n        vertical-align: top;\n    }\n\n    .dataframe thead th {\n        text-align: right;\n    }\n</style>\n<table border=\"1\" class=\"dataframe\">\n  <thead>\n    <tr style=\"text-align: right;\">\n      <th>Metabolite Name</th>\n      <th>xylose</th>\n      <th>xylonic acid</th>\n      <th>vanillic acid</th>\n      <th>valine</th>\n      <th>urea</th>\n      <th>uracil</th>\n      <th>UDP-glucuronic acid</th>\n      <th>tyrosol</th>\n      <th>tyrosine</th>\n      <th>tryptophan</th>\n      <th>...</th>\n      <th>proline</th>\n      <th>quercetin-3-glucoside</th>\n      <th>quercetin-3-glucuronide</th>\n      <th>resveratrol</th>\n      <th>resveratrol dimer (pallidol or viniferin)</th>\n      <th>spirotetramat</th>\n      <th>splitomicin</th>\n      <th>taxifolin</th>\n      <th>tributyl phosphate</th>\n      <th>tyrosine</th>\n    </tr>\n    <tr>\n      <th>groups</th>\n      <th></th>\n      <th></th>\n      <th></th>\n      <th></th>\n      <th></th>\n      <th></th>\n      <th></th>\n      <th></th>\n      <th></th>\n      <th></th>\n      <th></th>\n      <th></th>\n      <th></th>\n      <th></th>\n      <th></th>\n      <th></th>\n      <th></th>\n      <th></th>\n      <th></th>\n      <th></th>\n      <th></th>\n    </tr>\n  </thead>\n  <tbody>\n    <tr>\n      <th>CS_time0_2012</th>\n      <td>3.731010</td>\n      <td>0.286863</td>\n      <td>0.117069</td>\n      <td>1.730116</td>\n      <td>1.216265</td>\n      <td>0.086685</td>\n      <td>0.650581</td>\n      <td>0.110813</td>\n      <td>1.387846</td>\n      <td>4.603217</td>\n      <td>...</td>\n      <td>98.838524</td>\n      <td>0.923180</td>\n      <td>20.703345</td>\n      <td>0.000318</td>\n      <td>0.000000</td>\n      <td>10.575021</td>\n      <td>0.000000</td>\n      <td>0.000000</td>\n      <td>75.369803</td>\n      <td>0.140542</td>\n    </tr>\n    <tr>\n      <th>CS_time0_2013</th>\n      <td>3.248436</td>\n      <td>0.571939</td>\n      <td>0.219839</td>\n      <td>0.758713</td>\n      <td>1.244861</td>\n      <td>0.202860</td>\n      <td>1.277033</td>\n      <td>0.256479</td>\n      <td>1.069705</td>\n      <td>1.967828</td>\n      <td>...</td>\n      <td>1040.845728</td>\n      <td>12.307100</td>\n      <td>77.785800</td>\n      <td>1.187485</td>\n      <td>0.000000</td>\n      <td>38.528039</td>\n      <td>0.000000</td>\n      <td>0.029844</td>\n      <td>0.000000</td>\n      <td>0.000000</td>\n    </tr>\n    <tr>\n      <th>CS_time0_2014</th>\n      <td>2.293119</td>\n      <td>0.529937</td>\n      <td>0.495085</td>\n      <td>1.361930</td>\n      <td>1.078642</td>\n      <td>0.563003</td>\n      <td>1.026810</td>\n      <td>0.618409</td>\n      <td>0.858803</td>\n      <td>1.293119</td>\n      <td>...</td>\n      <td>138.256017</td>\n      <td>6.642696</td>\n      <td>60.868062</td>\n      <td>1.184399</td>\n      <td>0.262894</td>\n      <td>0.000000</td>\n      <td>0.000000</td>\n      <td>0.880047</td>\n      <td>0.000000</td>\n      <td>0.000000</td>\n    </tr>\n    <tr>\n      <th>CS_time10_2012</th>\n      <td>1.701519</td>\n      <td>0.908847</td>\n      <td>0.124218</td>\n      <td>6.172475</td>\n      <td>1.798034</td>\n      <td>0.141197</td>\n      <td>1.705094</td>\n      <td>0.134942</td>\n      <td>56.835567</td>\n      <td>0.456658</td>\n      <td>...</td>\n      <td>210.242434</td>\n      <td>21.346971</td>\n      <td>14.397728</td>\n      <td>0.000000</td>\n      <td>0.000000</td>\n      <td>4.236117</td>\n      <td>0.000000</td>\n      <td>0.000000</td>\n      <td>68.386685</td>\n      <td>0.087802</td>\n    </tr>\n    <tr>\n      <th>CS_time10_2013</th>\n      <td>1.420912</td>\n      <td>0.709562</td>\n      <td>0.271671</td>\n      <td>2.251117</td>\n      <td>0.851653</td>\n      <td>0.204647</td>\n      <td>1.277033</td>\n      <td>0.285970</td>\n      <td>1.787310</td>\n      <td>0.618409</td>\n      <td>...</td>\n      <td>5721.521059</td>\n      <td>131.340072</td>\n      <td>67.179783</td>\n      <td>4.141035</td>\n      <td>0.000000</td>\n      <td>4.742720</td>\n      <td>0.000000</td>\n      <td>6.002407</td>\n      <td>0.000000</td>\n      <td>0.000000</td>\n    </tr>\n    <tr>\n      <th>...</th>\n      <td>...</td>\n      <td>...</td>\n      <td>...</td>\n      <td>...</td>\n      <td>...</td>\n      <td>...</td>\n      <td>...</td>\n      <td>...</td>\n      <td>...</td>\n      <td>...</td>\n      <td>...</td>\n      <td>...</td>\n      <td>...</td>\n      <td>...</td>\n      <td>...</td>\n      <td>...</td>\n      <td>...</td>\n      <td>...</td>\n      <td>...</td>\n      <td>...</td>\n      <td>...</td>\n    </tr>\n    <tr>\n      <th>PN_time8_2013</th>\n      <td>1.707775</td>\n      <td>0.602324</td>\n      <td>0.257373</td>\n      <td>4.428061</td>\n      <td>3.485255</td>\n      <td>0.255585</td>\n      <td>1.798928</td>\n      <td>0.223414</td>\n      <td>2.071492</td>\n      <td>1.488829</td>\n      <td>...</td>\n      <td>2433.909025</td>\n      <td>114.427437</td>\n      <td>113.285199</td>\n      <td>229.844525</td>\n      <td>5.813718</td>\n      <td>2.628640</td>\n      <td>0.000000</td>\n      <td>137.692419</td>\n      <td>0.000000</td>\n      <td>0.000000</td>\n    </tr>\n    <tr>\n      <th>PN_time8_2014</th>\n      <td>3.496872</td>\n      <td>0.741734</td>\n      <td>0.422699</td>\n      <td>2.621984</td>\n      <td>0.950849</td>\n      <td>0.455764</td>\n      <td>1.350313</td>\n      <td>0.547811</td>\n      <td>2.064343</td>\n      <td>1.639857</td>\n      <td>...</td>\n      <td>948.846056</td>\n      <td>34.157383</td>\n      <td>41.083211</td>\n      <td>65.457904</td>\n      <td>3.085765</td>\n      <td>0.000000</td>\n      <td>0.000000</td>\n      <td>63.440024</td>\n      <td>0.000000</td>\n      <td>0.000000</td>\n    </tr>\n    <tr>\n      <th>PN_time9_2012</th>\n      <td>2.193923</td>\n      <td>0.753351</td>\n      <td>0.097408</td>\n      <td>5.401251</td>\n      <td>1.716711</td>\n      <td>0.186774</td>\n      <td>2.283289</td>\n      <td>0.115282</td>\n      <td>1.880250</td>\n      <td>1.210009</td>\n      <td>...</td>\n      <td>88.710237</td>\n      <td>13.866339</td>\n      <td>27.864049</td>\n      <td>1.297096</td>\n      <td>4.812534</td>\n      <td>2.476580</td>\n      <td>6.371248</td>\n      <td>9.098453</td>\n      <td>14.831962</td>\n      <td>0.378103</td>\n    </tr>\n    <tr>\n      <th>PN_time9_2013</th>\n      <td>1.422699</td>\n      <td>0.685433</td>\n      <td>0.205541</td>\n      <td>4.406613</td>\n      <td>1.781948</td>\n      <td>0.229669</td>\n      <td>1.989276</td>\n      <td>0.245755</td>\n      <td>2.711349</td>\n      <td>1.933870</td>\n      <td>...</td>\n      <td>2743.561011</td>\n      <td>61.710710</td>\n      <td>72.058724</td>\n      <td>130.660891</td>\n      <td>10.473646</td>\n      <td>3.248135</td>\n      <td>0.000000</td>\n      <td>100.708544</td>\n      <td>0.000000</td>\n      <td>0.000000</td>\n    </tr>\n    <tr>\n      <th>PN_time9_2014</th>\n      <td>3.286863</td>\n      <td>0.731010</td>\n      <td>0.439678</td>\n      <td>5.446828</td>\n      <td>1.524576</td>\n      <td>0.343164</td>\n      <td>1.332440</td>\n      <td>0.459339</td>\n      <td>1.317248</td>\n      <td>0.827525</td>\n      <td>...</td>\n      <td>1272.529914</td>\n      <td>73.343157</td>\n      <td>72.336575</td>\n      <td>142.974555</td>\n      <td>4.695353</td>\n      <td>0.000000</td>\n      <td>0.000000</td>\n      <td>81.682680</td>\n      <td>0.000000</td>\n      <td>0.000000</td>\n    </tr>\n  </tbody>\n</table>\n<p>73 rows × 212 columns</p>\n</div>"
     },
     "execution_count": 24,
     "metadata": {},
     "output_type": "execute_result"
    }
   ],
   "source": [
    "data_mets_noreps = data_mets.groupby(metadata_mets_conv['groups']).mean()\n",
    "data_mets_noreps"
   ],
   "metadata": {
    "collapsed": false,
    "ExecuteTime": {
     "end_time": "2023-11-30T16:34:36.191848900Z",
     "start_time": "2023-11-30T16:34:36.167816Z"
    }
   },
   "id": "5133093321fa61a9"
  },
  {
   "cell_type": "code",
   "execution_count": 26,
   "outputs": [
    {
     "data": {
      "text/plain": "(73, 8632)"
     },
     "execution_count": 26,
     "metadata": {},
     "output_type": "execute_result"
    }
   ],
   "source": [
    "fluxes = pd.read_csv(os.path.join(data_source, 'fluxomics_fc.csv'), index_col=0)\n",
    "fluxes = fluxes.transpose()\n",
    "fluxes.shape"
   ],
   "metadata": {
    "collapsed": false,
    "ExecuteTime": {
     "end_time": "2023-11-30T16:35:44.183938800Z",
     "start_time": "2023-11-30T16:35:44.099102900Z"
    }
   },
   "id": "19743683288dc186"
  },
  {
   "cell_type": "code",
   "execution_count": 33,
   "outputs": [],
   "source": [
    "fluxes = fluxes.fillna(0)"
   ],
   "metadata": {
    "collapsed": false,
    "ExecuteTime": {
     "end_time": "2023-11-30T16:40:25.450417200Z",
     "start_time": "2023-11-30T16:40:25.430807Z"
    }
   },
   "id": "10e96b1bfe1968d0"
  },
  {
   "cell_type": "code",
   "execution_count": 34,
   "outputs": [
    {
     "data": {
      "text/plain": "(73, 14862)"
     },
     "execution_count": 34,
     "metadata": {},
     "output_type": "execute_result"
    }
   ],
   "source": [
    "all_data = pd.concat([rnaseq, data_mets_noreps, fluxes], axis=1)\n",
    "all_data.shape"
   ],
   "metadata": {
    "collapsed": false,
    "ExecuteTime": {
     "end_time": "2023-11-30T16:40:26.953075400Z",
     "start_time": "2023-11-30T16:40:26.937847Z"
    }
   },
   "id": "e6e433c0b3d35e07"
  },
  {
   "cell_type": "code",
   "execution_count": 35,
   "outputs": [],
   "source": [
    "X_train, X_test, y_train, y_test = train_test_split(all_data, y_state, test_size=0.20, random_state=42)"
   ],
   "metadata": {
    "collapsed": false,
    "ExecuteTime": {
     "end_time": "2023-11-30T16:40:28.463596500Z",
     "start_time": "2023-11-30T16:40:28.447090200Z"
    }
   },
   "id": "1098dd763350da6e"
  },
  {
   "cell_type": "code",
   "execution_count": 40,
   "outputs": [
    {
     "name": "stdout",
     "output_type": "stream",
     "text": [
      "(58, 4231)\n"
     ]
    },
    {
     "data": {
      "text/plain": "(15, 4231)"
     },
     "execution_count": 40,
     "metadata": {},
     "output_type": "execute_result"
    }
   ],
   "source": [
    "# remove constant features\n",
    "vt = VarianceThreshold(0.1)\n",
    "filter_train = vt.fit(X_train)\n",
    "\n",
    "train_filtered = filter_train.transform(X_train)\n",
    "test_filtered = filter_train.transform(X_test)\n",
    "\n",
    "cols_inds = vt.get_support(indices=True)\n",
    "\n",
    "X_train_filtered = pd.DataFrame(train_filtered, index=X_train.index, columns=X_train.columns[cols_inds])\n",
    "print(X_train_filtered.shape)\n",
    "\n",
    "X_test_filtered = pd.DataFrame(test_filtered, index=X_test.index, columns=X_test.columns[cols_inds])\n",
    "X_test_filtered.shape"
   ],
   "metadata": {
    "collapsed": false,
    "ExecuteTime": {
     "end_time": "2023-11-30T16:42:38.523868900Z",
     "start_time": "2023-11-30T16:42:38.344782Z"
    }
   },
   "id": "e752b5002cffd766"
  },
  {
   "cell_type": "code",
   "execution_count": 43,
   "outputs": [
    {
     "data": {
      "text/plain": "(58, 1000)"
     },
     "execution_count": 43,
     "metadata": {},
     "output_type": "execute_result"
    }
   ],
   "source": [
    "kb2 = SelectKBest(f_classif, k=1000)\n",
    "\n",
    "kb2_fit = kb2.fit(X_train_filtered, y_train)\n",
    "\n",
    "train_filtered2 = kb2_fit.transform(X_train_filtered)\n",
    "test_filtered2 = kb2_fit.transform(X_test_filtered)\n",
    "\n",
    "cols_inds = kb2_fit.get_support(indices=True)\n",
    "\n",
    "X_train_filtered2 = pd.DataFrame(train_filtered2, columns=X_train_filtered.columns[cols_inds], index=X_train_filtered.index)\n",
    "X_train_filtered2.shape"
   ],
   "metadata": {
    "collapsed": false,
    "ExecuteTime": {
     "end_time": "2023-11-30T16:42:54.217974400Z",
     "start_time": "2023-11-30T16:42:54.174650400Z"
    }
   },
   "id": "b13f1554f849ad36"
  },
  {
   "cell_type": "code",
   "execution_count": 44,
   "outputs": [
    {
     "data": {
      "text/plain": "(15, 1000)"
     },
     "execution_count": 44,
     "metadata": {},
     "output_type": "execute_result"
    }
   ],
   "source": [
    "X_test_filtered2 = pd.DataFrame(test_filtered2, columns=X_test_filtered.columns[cols_inds], index=X_test_filtered.index)\n",
    "X_test_filtered2.shape"
   ],
   "metadata": {
    "collapsed": false,
    "ExecuteTime": {
     "end_time": "2023-11-30T16:48:55.771347Z",
     "start_time": "2023-11-30T16:48:55.752968Z"
    }
   },
   "id": "9d2c7bb6acb4a020"
  },
  {
   "cell_type": "code",
   "execution_count": 46,
   "outputs": [],
   "source": [
    "scaler_model = StandardScaler().fit(X_train_filtered2)\n",
    "X_train_scaled = scaler_model.transform(X_train_filtered2)\n",
    "X_test_scaled = scaler_model.transform(X_test_filtered2)"
   ],
   "metadata": {
    "collapsed": false,
    "ExecuteTime": {
     "end_time": "2023-11-30T16:49:57.216697400Z",
     "start_time": "2023-11-30T16:49:57.196654600Z"
    }
   },
   "id": "2f625fc001f6c121"
  },
  {
   "cell_type": "code",
   "execution_count": 47,
   "outputs": [],
   "source": [
    "X_train_scaled_df = pd.DataFrame(X_train_scaled, columns=X_train_filtered2.columns, index=X_train_filtered2.index)\n",
    "X_test_scaled_df = pd.DataFrame(X_test_scaled, columns=X_test_filtered2.columns, index=X_test_filtered2.index)"
   ],
   "metadata": {
    "collapsed": false,
    "ExecuteTime": {
     "end_time": "2023-11-30T16:49:58.561160900Z",
     "start_time": "2023-11-30T16:49:58.548255600Z"
    }
   },
   "id": "22087b2d70d75087"
  },
  {
   "cell_type": "markdown",
   "source": [
    "### APLY ML"
   ],
   "metadata": {
    "collapsed": false
   },
   "id": "598600a70d1496d7"
  },
  {
   "cell_type": "code",
   "execution_count": 49,
   "outputs": [
    {
     "name": "stderr",
     "output_type": "stream",
     "text": [
      "C:\\Users\\BiSBII\\anaconda3\\envs\\multiomics\\Lib\\site-packages\\sklearn\\base.py:457: UserWarning: X has feature names, but DecisionTreeClassifier was fitted without feature names\n",
      "  warnings.warn(\n"
     ]
    }
   ],
   "source": [
    "clf = tree.DecisionTreeClassifier()\n",
    "clf = clf.fit(X_train_scaled, y_train)\n",
    "\n",
    "y_pred_tree = clf.predict(X_test_scaled_df)"
   ],
   "metadata": {
    "collapsed": false,
    "ExecuteTime": {
     "end_time": "2023-11-30T16:52:39.225137800Z",
     "start_time": "2023-11-30T16:52:39.204138900Z"
    }
   },
   "id": "99de4265e3b41860"
  },
  {
   "cell_type": "code",
   "execution_count": 50,
   "outputs": [
    {
     "name": "stdout",
     "output_type": "stream",
     "text": [
      "Precision: 0.94\n",
      "Recall: 0.93\n",
      "Accuracy: 0.93\n"
     ]
    }
   ],
   "source": [
    "print('Precision: %0.2f' % precision_score(y_test, y_pred_tree, average='weighted'))\n",
    "print('Recall: %0.2f' % recall_score(y_test, y_pred_tree, average='weighted'))\n",
    "print('Accuracy: %0.2f' % accuracy_score(y_test, y_pred_tree))"
   ],
   "metadata": {
    "collapsed": false,
    "ExecuteTime": {
     "end_time": "2023-11-30T16:52:47.300057800Z",
     "start_time": "2023-11-30T16:52:47.286028Z"
    }
   },
   "id": "4cba1fe5f2341e69"
  },
  {
   "cell_type": "code",
   "execution_count": 51,
   "outputs": [
    {
     "data": {
      "text/plain": "[Text(0.5, 0.75, 'x[64] <= 0.002\\ngini = 0.485\\nsamples = 58\\nvalue = [24, 34]'),\n Text(0.25, 0.25, 'gini = 0.0\\nsamples = 34\\nvalue = [0, 34]'),\n Text(0.75, 0.25, 'gini = 0.0\\nsamples = 24\\nvalue = [24, 0]')]"
     },
     "execution_count": 51,
     "metadata": {},
     "output_type": "execute_result"
    },
    {
     "data": {
      "text/plain": "<Figure size 640x480 with 1 Axes>",
      "image/png": "[encoded data removed]"
     },
     "metadata": {},
     "output_type": "display_data"
    }
   ],
   "source": [
    "tree.plot_tree(clf)"
   ],
   "metadata": {
    "collapsed": false,
    "ExecuteTime": {
     "end_time": "2023-11-30T16:52:56.796214100Z",
     "start_time": "2023-11-30T16:52:56.564317200Z"
    }
   },
   "id": "735a8ca6cf3b729e"
  },
  {
   "cell_type": "code",
   "execution_count": 54,
   "outputs": [
    {
     "name": "stdout",
     "output_type": "stream",
     "text": [
      "Precision: 0.94\n",
      "Recall: 0.93\n",
      "Accuracy: 0.93\n"
     ]
    },
    {
     "name": "stderr",
     "output_type": "stream",
     "text": [
      "C:\\Users\\BiSBII\\anaconda3\\envs\\multiomics\\Lib\\site-packages\\sklearn\\base.py:457: UserWarning: X has feature names, but DecisionTreeClassifier was fitted without feature names\n",
      "  warnings.warn(\n"
     ]
    },
    {
     "data": {
      "text/plain": "<Figure size 640x480 with 2 Axes>",
      "image/png": "[encoded data removed]"
     },
     "metadata": {},
     "output_type": "display_data"
    }
   ],
   "source": [
    "lr = LogisticRegression(random_state=0).fit(X_train_scaled_df, y_train)\n",
    "y_pred_lr = lr.predict(X_test_scaled_df)\n",
    "\n",
    "print('Precision: %0.2f' % precision_score(y_test, y_pred_lr, average='weighted'))\n",
    "print('Recall: %0.2f' % recall_score(y_test, y_pred_lr, average='weighted'))\n",
    "print('Accuracy: %0.2f' % accuracy_score(y_test, y_pred_lr))\n",
    "\n",
    "cm_lr = ConfusionMatrixDisplay.from_predictions(y_test, y_pred_lr, display_labels=lr.classes_, cmap='Blues')"
   ],
   "metadata": {
    "collapsed": false,
    "ExecuteTime": {
     "end_time": "2023-11-30T16:54:08.308176500Z",
     "start_time": "2023-11-30T16:54:08.102991700Z"
    }
   },
   "id": "6896fb1e6c1724b6"
  },
  {
   "cell_type": "code",
   "execution_count": 56,
   "outputs": [
    {
     "name": "stdout",
     "output_type": "stream",
     "text": [
      "Precision: 0.94\n",
      "Recall: 0.93\n",
      "Accuracy: 0.93\n"
     ]
    },
    {
     "data": {
      "text/plain": "<sklearn.metrics._plot.confusion_matrix.ConfusionMatrixDisplay at 0x1b1d19b9850>"
     },
     "execution_count": 56,
     "metadata": {},
     "output_type": "execute_result"
    },
    {
     "data": {
      "text/plain": "<Figure size 640x480 with 2 Axes>",
      "image/png": "[encoded data removed]"
     },
     "metadata": {},
     "output_type": "display_data"
    }
   ],
   "source": [
    "svm_model = svm.SVC()\n",
    "svm_model.fit(X_train_scaled_df, y_train)\n",
    "\n",
    "svm_y_pred = svm_model.predict(X_test_scaled_df)\n",
    "\n",
    "print('Precision: %0.2f' % precision_score(y_test, svm_y_pred, average='weighted'))\n",
    "print('Recall: %0.2f' % recall_score(y_test, svm_y_pred, average='weighted'))\n",
    "print('Accuracy: %0.2f' % accuracy_score(y_test, svm_y_pred))\n",
    "\n",
    "svm_cm = ConfusionMatrixDisplay.from_predictions(y_test, svm_y_pred, display_labels=svm_model.classes_, cmap='Blues')\n",
    "svm_cm"
   ],
   "metadata": {
    "collapsed": false,
    "ExecuteTime": {
     "end_time": "2023-11-30T16:55:22.300085300Z",
     "start_time": "2023-11-30T16:55:22.109056700Z"
    }
   },
   "id": "1d6ba6a990838fea"
  },
  {
   "cell_type": "code",
   "execution_count": 57,
   "outputs": [
    {
     "name": "stdout",
     "output_type": "stream",
     "text": [
      "Precision: 1.00\n",
      "Recall: 1.00\n",
      "Accuracy: 1.00\n"
     ]
    }
   ],
   "source": [
    "rf_model = RandomForestClassifier(n_estimators=100)\n",
    "\n",
    "rf_model.fit(X_train_scaled_df, y_train)\n",
    "\n",
    "rf_y_pred = rf_model.predict(X_test_scaled_df)\n",
    "\n",
    "print('Precision: %0.2f' % precision_score(y_test, rf_y_pred, average='weighted'))\n",
    "print('Recall: %0.2f' % recall_score(y_test, rf_y_pred, average='weighted'))\n",
    "print('Accuracy: %0.2f' % accuracy_score(y_test, rf_y_pred))"
   ],
   "metadata": {
    "collapsed": false,
    "ExecuteTime": {
     "end_time": "2023-11-30T16:56:08.139820600Z",
     "start_time": "2023-11-30T16:56:08.028658500Z"
    }
   },
   "id": "e567fdc97910a5b9"
  },
  {
   "cell_type": "code",
   "execution_count": 58,
   "outputs": [
    {
     "data": {
      "text/plain": "<sklearn.metrics._plot.confusion_matrix.ConfusionMatrixDisplay at 0x1b1d1a1aa10>"
     },
     "execution_count": 58,
     "metadata": {},
     "output_type": "execute_result"
    },
    {
     "data": {
      "text/plain": "<Figure size 640x480 with 2 Axes>",
      "image/png": "[encoded data removed]"
     },
     "metadata": {},
     "output_type": "display_data"
    }
   ],
   "source": [
    "rf_cm = ConfusionMatrixDisplay.from_predictions(y_test, rf_y_pred, display_labels=svm_model.classes_, cmap='Blues')\n",
    "rf_cm"
   ],
   "metadata": {
    "collapsed": false,
    "ExecuteTime": {
     "end_time": "2023-11-30T16:56:09.498093Z",
     "start_time": "2023-11-30T16:56:09.331712400Z"
    }
   },
   "id": "5a172172c1d9ac2f"
  },
  {
   "cell_type": "code",
   "execution_count": 59,
   "outputs": [
    {
     "data": {
      "text/plain": "                            importance\nVitvi14g00439                     0.02\nVitvi18g00068                     0.02\nVitvi07g01275                     0.02\nVitvi04g00870                     0.02\nVitvi01g01748                     0.02\n...                                ...\nVitvi10g00436                     0.00\nVitvi10g00468                     0.00\nVitvi10g00543                     0.00\nVitvi10g00740                     0.00\n2.6.1.58-RXN__cyto_reverse        0.00\n\n[1000 rows x 1 columns]",
      "text/html": "<div>\n<style scoped>\n    .dataframe tbody tr th:only-of-type {\n        vertical-align: middle;\n    }\n\n    .dataframe tbody tr th {\n        vertical-align: top;\n    }\n\n    .dataframe thead th {\n        text-align: right;\n    }\n</style>\n<table border=\"1\" class=\"dataframe\">\n  <thead>\n    <tr style=\"text-align: right;\">\n      <th></th>\n      <th>importance</th>\n    </tr>\n  </thead>\n  <tbody>\n    <tr>\n      <th>Vitvi14g00439</th>\n      <td>0.02</td>\n    </tr>\n    <tr>\n      <th>Vitvi18g00068</th>\n      <td>0.02</td>\n    </tr>\n    <tr>\n      <th>Vitvi07g01275</th>\n      <td>0.02</td>\n    </tr>\n    <tr>\n      <th>Vitvi04g00870</th>\n      <td>0.02</td>\n    </tr>\n    <tr>\n      <th>Vitvi01g01748</th>\n      <td>0.02</td>\n    </tr>\n    <tr>\n      <th>...</th>\n      <td>...</td>\n    </tr>\n    <tr>\n      <th>Vitvi10g00436</th>\n      <td>0.00</td>\n    </tr>\n    <tr>\n      <th>Vitvi10g00468</th>\n      <td>0.00</td>\n    </tr>\n    <tr>\n      <th>Vitvi10g00543</th>\n      <td>0.00</td>\n    </tr>\n    <tr>\n      <th>Vitvi10g00740</th>\n      <td>0.00</td>\n    </tr>\n    <tr>\n      <th>2.6.1.58-RXN__cyto_reverse</th>\n      <td>0.00</td>\n    </tr>\n  </tbody>\n</table>\n<p>1000 rows × 1 columns</p>\n</div>"
     },
     "execution_count": 59,
     "metadata": {},
     "output_type": "execute_result"
    }
   ],
   "source": [
    "importances = rf_model.feature_importances_\n",
    "importances_df = pd.DataFrame(importances, columns=['importance'], index=X_train_scaled_df.columns)\n",
    "importances_df.sort_values(by=['importance'], ascending=False)"
   ],
   "metadata": {
    "collapsed": false,
    "ExecuteTime": {
     "end_time": "2023-11-30T16:56:24.162095800Z",
     "start_time": "2023-11-30T16:56:24.140497700Z"
    }
   },
   "id": "f52b1a88c257be69"
  },
  {
   "cell_type": "markdown",
   "source": [
    "# LET's now use LOO and CV"
   ],
   "metadata": {
    "collapsed": false
   },
   "id": "a3fb6642000c28d8"
  },
  {
   "cell_type": "code",
   "execution_count": 61,
   "outputs": [],
   "source": [
    "from sklearn.pipeline import Pipeline\n",
    "from sklearn.model_selection import KFold"
   ],
   "metadata": {
    "collapsed": false,
    "ExecuteTime": {
     "end_time": "2023-11-30T17:13:22.170622700Z",
     "start_time": "2023-11-30T17:13:22.155897500Z"
    }
   },
   "id": "7d6639a545bef638"
  },
  {
   "cell_type": "code",
   "execution_count": 93,
   "outputs": [
    {
     "data": {
      "text/plain": "0.9726027397260274"
     },
     "execution_count": 93,
     "metadata": {},
     "output_type": "execute_result"
    }
   ],
   "source": [
    "scaler = StandardScaler()\n",
    "vt = VarianceThreshold(0.1)\n",
    "skb = SelectKBest(f_classif, k=1000)\n",
    "svm_model2 = svm.SVC()\n",
    "\n",
    "pipe = Pipeline([('transformer1', scaler), ('transformer2', vt), ('transformer3', skb), ('estimator', clf)])\n",
    "\n",
    "scoring = ['accuracy', 'precision', 'recall']\n",
    "\n",
    "cv = KFold(n_splits=73)\n",
    "scores = cross_val_score(pipe, all_data, y_state, cv = cv, scoring='accuracy')\n",
    "scores.mean()"
   ],
   "metadata": {
    "collapsed": false,
    "ExecuteTime": {
     "end_time": "2023-12-04T10:33:47.088684700Z",
     "start_time": "2023-12-04T10:33:31.897012600Z"
    }
   },
   "id": "5016a42587673906"
  },
  {
   "cell_type": "code",
   "execution_count": 92,
   "outputs": [
    {
     "data": {
      "text/plain": "array([1., 1., 1., 1., 1., 1., 1., 1., 1., 1., 1., 1., 1., 1., 1., 1., 1.,\n       1., 1., 1., 1., 1., 1., 1., 1., 1., 1., 1., 1., 1., 1., 0., 1., 1.,\n       1., 1., 1., 1., 1., 1., 1., 1., 1., 1., 1., 1., 1., 1., 1., 1., 1.,\n       1., 1., 1., 0., 1., 1., 1., 1., 1., 1., 1., 1., 1., 1., 1., 1., 0.,\n       1., 1., 1., 1., 1.])"
     },
     "execution_count": 92,
     "metadata": {},
     "output_type": "execute_result"
    }
   ],
   "source": [
    "scores"
   ],
   "metadata": {
    "collapsed": false,
    "ExecuteTime": {
     "end_time": "2023-12-04T10:32:01.400907400Z",
     "start_time": "2023-12-04T10:32:01.386379300Z"
    }
   },
   "id": "f452bdaab7a3c46e"
  }
 ],
 "metadata": {
  "kernelspec": {
   "display_name": "Python 3",
   "language": "python",
   "name": "python3"
  },
  "language_info": {
   "codemirror_mode": {
    "name": "ipython",
    "version": 2
   },
   "file_extension": ".py",
   "mimetype": "text/x-python",
   "name": "python",
   "nbconvert_exporter": "python",
   "pygments_lexer": "ipython2",
   "version": "2.7.6"
  }
 },
 "nbformat": 4,
 "nbformat_minor": 5
}
