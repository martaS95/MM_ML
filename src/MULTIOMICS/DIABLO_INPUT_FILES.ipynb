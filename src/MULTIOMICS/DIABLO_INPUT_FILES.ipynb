{
 "cells": [
  {
   "cell_type": "markdown",
   "source": [
    "# CREATE INPUT FILES FROM DIABLO"
   ],
   "metadata": {
    "collapsed": false
   },
   "id": "63bb2337cc909c89"
  },
  {
   "cell_type": "markdown",
   "source": [
    "these files will be used as input for DIABLO in R"
   ],
   "metadata": {
    "collapsed": false
   },
   "id": "b488fc314bbd1d3a"
  },
  {
   "cell_type": "code",
   "execution_count": null,
   "outputs": [],
   "source": [
    "import os\n",
    "import pandas as pd\n",
    "from sklearn.model_selection import StratifiedKFold\n",
    "from sklearn.feature_selection import VarianceThreshold, SelectKBest, f_classif\n",
    "from sklearn.preprocessing import StandardScaler"
   ],
   "metadata": {
    "collapsed": false
   },
   "id": "4ed85480af1759e6"
  },
  {
   "cell_type": "code",
   "execution_count": null,
   "outputs": [],
   "source": [
    "data_source = '../data/'"
   ],
   "metadata": {
    "collapsed": false
   },
   "id": "46aa293a0a5d6569"
  },
  {
   "cell_type": "markdown",
   "source": [
    "## RNASEQ"
   ],
   "metadata": {
    "collapsed": false
   },
   "id": "92fe4543ee9f6583"
  },
  {
   "cell_type": "code",
   "execution_count": null,
   "outputs": [],
   "source": [
    "metadata_file = os.path.join(data_source, 'GSE98923_metadata.xlsx')"
   ],
   "metadata": {
    "collapsed": false
   },
   "id": "d95b4a2913302bf5"
  },
  {
   "cell_type": "code",
   "execution_count": null,
   "outputs": [],
   "source": [
    "metadata = pd.read_excel(metadata_file, index_col=0, sheet_name='NO_REPLICATES')\n",
    "metadata"
   ],
   "metadata": {
    "collapsed": false
   },
   "id": "d62b3c7ff962fdce"
  },
  {
   "cell_type": "code",
   "execution_count": null,
   "id": "initial_id",
   "metadata": {
    "collapsed": true
   },
   "outputs": [],
   "source": [
    "data_all_genes = pd.read_csv(os.path.join(data_source, 'GREAT_LOG_TPM_GSE98923_NOREPS.csv'), index_col=0)\n",
    "data_all_genes = data_all_genes.transpose()\n",
    "data_all_genes.shape"
   ]
  },
  {
   "cell_type": "code",
   "execution_count": null,
   "outputs": [],
   "source": [
    "y_state = metadata['state']"
   ],
   "metadata": {
    "collapsed": false
   },
   "id": "aece25f47fd06036"
  },
  {
   "cell_type": "code",
   "execution_count": null,
   "outputs": [],
   "source": [
    "trains_index = []\n",
    "tests_index = []\n",
    "ys_train = []"
   ],
   "metadata": {
    "collapsed": false
   },
   "id": "6304c14bbcc9335"
  },
  {
   "cell_type": "code",
   "execution_count": null,
   "outputs": [],
   "source": [
    "skf = StratifiedKFold(n_splits=5)\n",
    "for i, (train_index, test_index) in enumerate(skf.split(data_all_genes, y_state)):\n",
    "    \n",
    "    X_train = data_all_genes.iloc[train_index, :]\n",
    "    X_test = data_all_genes.iloc[test_index, :]\n",
    "\n",
    "    y_train = y_state.iloc[train_index]\n",
    "    y_test = y_state.iloc[test_index]\n",
    "    \n",
    "    ys_train.append(y_train)\n",
    "    \n",
    "    trains_index.append(train_index)\n",
    "    tests_index.append(test_index)\n",
    "    \n",
    "    # remove some features\n",
    "    vt = VarianceThreshold(0.1)\n",
    "    filter_train = vt.fit(X_train)\n",
    "    \n",
    "    train_filtered = filter_train.transform(X_train)\n",
    "    test_filtered = filter_train.transform(X_test)\n",
    "    \n",
    "    cols_inds = vt.get_support(indices=True)\n",
    "    \n",
    "    X_train_filtered = pd.DataFrame(train_filtered, index=X_train.index, columns=X_train.columns[cols_inds])\n",
    "    X_test_filtered = pd.DataFrame(test_filtered, index=X_test.index, columns=X_test.columns[cols_inds])\n",
    "    \n",
    "    kb2 = SelectKBest(f_classif, k=500)\n",
    "\n",
    "    kb2_fit = kb2.fit(X_train_filtered, y_train)\n",
    "\n",
    "    train_filtered2 = kb2_fit.transform(X_train_filtered)\n",
    "    test_filtered2 = kb2_fit.transform(X_test_filtered)\n",
    "\n",
    "    cols_inds = kb2_fit.get_support(indices=True)\n",
    "\n",
    "    X_train_filtered2 = pd.DataFrame(train_filtered2, columns=X_train_filtered.columns[cols_inds], index=X_train_filtered.index)\n",
    "    X_test_filtered2 = pd.DataFrame(test_filtered2, columns=X_test_filtered.columns[cols_inds], index=X_test_filtered.index)\n",
    "    \n",
    "    scaler_model = StandardScaler().fit(X_train_filtered2)\n",
    "    X_train_scaled = scaler_model.transform(X_train_filtered2)\n",
    "    X_test_scaled = scaler_model.transform(X_test_filtered2)\n",
    "    \n",
    "    X_train_scaled_df = pd.DataFrame(X_train_scaled, columns=X_train_filtered2.columns, index=X_train_filtered2.index)\n",
    "    X_test_scaled_df = pd.DataFrame(X_test_scaled, columns=X_test_filtered2.columns, index=X_test_filtered2.index)\n",
    "    \n",
    "    X_train_scaled_df.to_csv(os.path.join(data_source, 'DIABLO_INPUT', 'XTRAIN_RNASEQ_ALL_GENES_NOREPS_SPLIT_' + str(i) + '.csv'))\n",
    "    \n",
    "    X_test_scaled_df.to_csv(os.path.join(data_source, 'DIABLO_INPUT', 'XTEST_RNASEQ_ALL_GENES_NOREPS_SPLIT_' + str(i) + '.csv'))\n",
    "    \n",
    "    y_train.to_csv(os.path.join(data_source, 'DIABLO_INPUT', 'yTRAIN_ALL_GENES_NOREPS_SPLIT_' + str(i) + '.csv'))\n",
    "    \n",
    "    y_test.to_csv(os.path.join(data_source, 'DIABLO_INPUT', 'yTEST_ALL_500_GENES_NOREPS_SPLIT_' + str(i) + '.csv'))"
   ],
   "metadata": {
    "collapsed": false
   },
   "id": "996e81cd4fe78135"
  },
  {
   "cell_type": "markdown",
   "source": [
    "## METABOLOMICS"
   ],
   "metadata": {
    "collapsed": false
   },
   "id": "708b22eb22da6a01"
  },
  {
   "cell_type": "code",
   "execution_count": null,
   "outputs": [],
   "source": [
    "metadata_noreps = pd.read_excel(os.path.join(data_source, 'metabolomics_metadata.xlsx'), sheet_name='CONVERSION', index_col=0)"
   ],
   "metadata": {
    "collapsed": false
   },
   "id": "cfcde064b94a6e75"
  },
  {
   "cell_type": "code",
   "execution_count": null,
   "outputs": [],
   "source": [
    "data_reps = pd.read_excel(os.path.join(data_source, 'metabolomics.xlsx'), index_col=0, header=0)\n",
    "data_reps = data_reps.loc[:, data_reps.columns != 'Method']\n",
    "data_reps = data_reps.transpose()\n",
    "data_reps.shape"
   ],
   "metadata": {
    "collapsed": false
   },
   "id": "71c72d1209223d76"
  },
  {
   "cell_type": "code",
   "execution_count": null,
   "outputs": [],
   "source": [
    "data_mets_noreps = data_reps.groupby(metadata_noreps['groups']).mean()"
   ],
   "metadata": {
    "collapsed": false
   },
   "id": "d28a54be21fff4c3"
  },
  {
   "cell_type": "code",
   "execution_count": null,
   "outputs": [],
   "source": [
    "for i in range(len(trains_index)):\n",
    "        \n",
    "    Xtrain_mets = data_mets_noreps.iloc[trains_index[i], :]\n",
    "    \n",
    "    Xtest_mets = data_mets_noreps.iloc[tests_index[i], :]\n",
    "    \n",
    "    vt = VarianceThreshold(0).fit(Xtrain_mets)\n",
    "    X_train_filtered = vt.transform(Xtrain_mets)\n",
    "    X_test_filtered = vt.transform(Xtest_mets)\n",
    "    cols_inds_vt = vt.get_support(indices=True)\n",
    "    X_train_filtered_df = pd.DataFrame(X_train_filtered, index=Xtrain_mets.index, columns=Xtrain_mets.columns[cols_inds_vt])\n",
    "    X_test_filtered_df = pd.DataFrame(X_test_filtered, index=Xtest_mets.index, columns=Xtest_mets.columns[cols_inds_vt])\n",
    "    \n",
    "    scaler_model = StandardScaler().fit(X_train_filtered_df)\n",
    "    X_train_scaled = scaler_model.transform(X_train_filtered_df)\n",
    "    X_test_scaled = scaler_model.transform(X_test_filtered_df)\n",
    "    \n",
    "    X_train_scaled_df = pd.DataFrame(X_train_scaled, columns=X_train_filtered_df.columns, index=X_train_filtered_df.index)\n",
    "    X_test_scaled_df = pd.DataFrame(X_test_scaled, columns=X_test_filtered_df.columns, index=X_test_filtered_df.index)\n",
    "    \n",
    "    X_train_scaled_df.to_csv(os.path.join(data_source, 'DIABLO_INPUT', 'XTRAIN_METABOLOMICS_NOREPS_VT_SPLIT_'+ str(i) +'.csv'))\n",
    "    X_test_scaled_df.to_csv(os.path.join(data_source, 'DIABLO_INPUT', 'XTEST_METABOLOMICS_NOREPS_VT_SPLIT_'+ str(i) +'.csv'))"
   ],
   "metadata": {
    "collapsed": false
   },
   "id": "3218752bf68987d5"
  },
  {
   "cell_type": "markdown",
   "source": [
    "## FLUXOMICS"
   ],
   "metadata": {
    "collapsed": false
   },
   "id": "2e929700a4849744"
  },
  {
   "cell_type": "code",
   "execution_count": null,
   "outputs": [],
   "source": [
    "data_fluxes = pd.read_csv(os.path.join(data_source, 'fluxomics_fc.csv'), index_col=0)\n",
    "data_fluxes = data_fluxes.fillna(0)\n",
    "data_fluxes = data_fluxes.transpose()\n",
    "data_fluxes.shape"
   ],
   "metadata": {
    "collapsed": false
   },
   "id": "e479d93ecf93aa43"
  },
  {
   "cell_type": "code",
   "execution_count": null,
   "outputs": [],
   "source": [
    "for i in range(len(trains_index)):\n",
    "    \n",
    "    Xtrain_fluxes = data_fluxes.iloc[trains_index[i], :]\n",
    "    \n",
    "    Xtest_fluxes = data_fluxes.iloc[tests_index[i], :]\n",
    "    \n",
    "    y_train = ys_train[i]\n",
    "\n",
    "    # remove some features\n",
    "    vt = VarianceThreshold(0.1)\n",
    "    filter_train = vt.fit(Xtrain_fluxes)\n",
    "    \n",
    "    train_filtered = filter_train.transform(Xtrain_fluxes)\n",
    "    test_filtered = filter_train.transform(Xtest_fluxes)\n",
    "    \n",
    "    cols_inds = vt.get_support(indices=True)\n",
    "    \n",
    "    X_train_filtered = pd.DataFrame(train_filtered, index=Xtrain_fluxes.index, columns=Xtrain_fluxes.columns[cols_inds])\n",
    "    X_test_filtered = pd.DataFrame(test_filtered, index=Xtest_fluxes.index, columns=Xtest_fluxes.columns[cols_inds])\n",
    "\n",
    "    kb2 = SelectKBest(f_classif, k=500)\n",
    "\n",
    "    kb2_fit = kb2.fit(X_train_filtered, y_train)\n",
    "    \n",
    "    train_filtered2 = kb2_fit.transform(X_train_filtered)\n",
    "    test_filtered2 = kb2_fit.transform(X_test_filtered)\n",
    "    \n",
    "    cols_inds = kb2_fit.get_support(indices=True)\n",
    "    \n",
    "    X_train_filtered2 = pd.DataFrame(train_filtered2, columns=X_train_filtered.columns[cols_inds], index=X_train_filtered.index)\n",
    "    X_test_filtered2 = pd.DataFrame(test_filtered2, columns=X_test_filtered.columns[cols_inds], index=X_test_filtered.index)\n",
    "    \n",
    "    scaler_model = StandardScaler().fit(X_train_filtered2)\n",
    "    X_train_scaled = scaler_model.transform(X_train_filtered2)\n",
    "    X_test_scaled = scaler_model.transform(X_test_filtered2)\n",
    "    \n",
    "    X_train_scaled_df = pd.DataFrame(X_train_scaled, columns=X_train_filtered2.columns, index=X_train_filtered2.index)\n",
    "    X_test_scaled_df = pd.DataFrame(X_test_scaled, columns=X_test_filtered2.columns, index=X_test_filtered2.index)\n",
    "    \n",
    "    X_train_scaled_df.to_csv(os.path.join(data_source, 'DIABLO_INPUT', 'XTRAIN_FLUXOMICS_REACTIONS_SPLIT_'+ str(i) +'.csv'))\n",
    "    X_test_scaled_df.to_csv(os.path.join(data_source, 'DIABLO_INPUT', 'XTEST_FLUXOMICS_REACTIONS_SPLIT_'+ str(i) +'.csv'))"
   ],
   "metadata": {
    "collapsed": false
   },
   "id": "700210d5f1f2cb81"
  },
  {
   "cell_type": "markdown",
   "source": [],
   "metadata": {
    "collapsed": false
   },
   "id": "54aadd55ca2490b8"
  }
 ],
 "metadata": {
  "kernelspec": {
   "display_name": "Python 3",
   "language": "python",
   "name": "python3"
  },
  "language_info": {
   "codemirror_mode": {
    "name": "ipython",
    "version": 2
   },
   "file_extension": ".py",
   "mimetype": "text/x-python",
   "name": "python",
   "nbconvert_exporter": "python",
   "pygments_lexer": "ipython2",
   "version": "2.7.6"
  }
 },
 "nbformat": 4,
 "nbformat_minor": 5
}
